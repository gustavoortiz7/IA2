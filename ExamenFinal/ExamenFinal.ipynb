{
  "cells": [
    {
      "cell_type": "code",
      "execution_count": 1,
      "metadata": {
        "colab": {
          "base_uri": "https://localhost:8080/"
        },
        "id": "3hJ9ilGyr9CO",
        "outputId": "d6bda0e6-e9cd-432a-a33d-ce15d10ff28e"
      },
      "outputs": [
        {
          "output_type": "stream",
          "name": "stdout",
          "text": [
            "Requirement already satisfied: torch in /usr/local/lib/python3.10/dist-packages (2.1.0+cu118)\n",
            "Requirement already satisfied: transformers in /usr/local/lib/python3.10/dist-packages (4.35.2)\n",
            "Requirement already satisfied: filelock in /usr/local/lib/python3.10/dist-packages (from torch) (3.13.1)\n",
            "Requirement already satisfied: typing-extensions in /usr/local/lib/python3.10/dist-packages (from torch) (4.5.0)\n",
            "Requirement already satisfied: sympy in /usr/local/lib/python3.10/dist-packages (from torch) (1.12)\n",
            "Requirement already satisfied: networkx in /usr/local/lib/python3.10/dist-packages (from torch) (3.2.1)\n",
            "Requirement already satisfied: jinja2 in /usr/local/lib/python3.10/dist-packages (from torch) (3.1.2)\n",
            "Requirement already satisfied: fsspec in /usr/local/lib/python3.10/dist-packages (from torch) (2023.6.0)\n",
            "Requirement already satisfied: triton==2.1.0 in /usr/local/lib/python3.10/dist-packages (from torch) (2.1.0)\n",
            "Requirement already satisfied: huggingface-hub<1.0,>=0.16.4 in /usr/local/lib/python3.10/dist-packages (from transformers) (0.19.4)\n",
            "Requirement already satisfied: numpy>=1.17 in /usr/local/lib/python3.10/dist-packages (from transformers) (1.23.5)\n",
            "Requirement already satisfied: packaging>=20.0 in /usr/local/lib/python3.10/dist-packages (from transformers) (23.2)\n",
            "Requirement already satisfied: pyyaml>=5.1 in /usr/local/lib/python3.10/dist-packages (from transformers) (6.0.1)\n",
            "Requirement already satisfied: regex!=2019.12.17 in /usr/local/lib/python3.10/dist-packages (from transformers) (2023.6.3)\n",
            "Requirement already satisfied: requests in /usr/local/lib/python3.10/dist-packages (from transformers) (2.31.0)\n",
            "Requirement already satisfied: tokenizers<0.19,>=0.14 in /usr/local/lib/python3.10/dist-packages (from transformers) (0.15.0)\n",
            "Requirement already satisfied: safetensors>=0.3.1 in /usr/local/lib/python3.10/dist-packages (from transformers) (0.4.0)\n",
            "Requirement already satisfied: tqdm>=4.27 in /usr/local/lib/python3.10/dist-packages (from transformers) (4.66.1)\n",
            "Requirement already satisfied: MarkupSafe>=2.0 in /usr/local/lib/python3.10/dist-packages (from jinja2->torch) (2.1.3)\n",
            "Requirement already satisfied: charset-normalizer<4,>=2 in /usr/local/lib/python3.10/dist-packages (from requests->transformers) (3.3.2)\n",
            "Requirement already satisfied: idna<4,>=2.5 in /usr/local/lib/python3.10/dist-packages (from requests->transformers) (3.4)\n",
            "Requirement already satisfied: urllib3<3,>=1.21.1 in /usr/local/lib/python3.10/dist-packages (from requests->transformers) (2.0.7)\n",
            "Requirement already satisfied: certifi>=2017.4.17 in /usr/local/lib/python3.10/dist-packages (from requests->transformers) (2023.7.22)\n",
            "Requirement already satisfied: mpmath>=0.19 in /usr/local/lib/python3.10/dist-packages (from sympy->torch) (1.3.0)\n"
          ]
        }
      ],
      "source": [
        "!pip install torch transformers"
      ]
    },
    {
      "cell_type": "code",
      "execution_count": 2,
      "metadata": {
        "colab": {
          "base_uri": "https://localhost:8080/"
        },
        "id": "BlgETp-buKio",
        "outputId": "ae7c4fd0-d68b-4f4f-926e-8cc77e58d24f"
      },
      "outputs": [
        {
          "output_type": "stream",
          "name": "stdout",
          "text": [
            "Mounted at /content/drive\n"
          ]
        }
      ],
      "source": [
        "from google.colab import drive\n",
        "drive.mount('/content/drive')"
      ]
    },
    {
      "cell_type": "code",
      "execution_count": 3,
      "metadata": {
        "id": "yDEAXXj6vuar"
      },
      "outputs": [],
      "source": [
        "\n",
        "import torch\n",
        "import torch.nn as nn\n",
        "import torch.optim as optim\n",
        "from torch.utils.data import Dataset, DataLoader"
      ]
    },
    {
      "cell_type": "code",
      "source": [
        "import pandas as pd\n",
        "#leemos el dataset\n",
        "data =pd.read_csv('/content/drive/MyDrive/2-SIS421/ExamenFinal/medtext_2.csv')\n",
        "data"
      ],
      "metadata": {
        "colab": {
          "base_uri": "https://localhost:8080/",
          "height": 423
        },
        "id": "eGH_Q41Iopik",
        "outputId": "dab21db1-9755-4235-fb66-87004d775a98"
      },
      "execution_count": 4,
      "outputs": [
        {
          "output_type": "execute_result",
          "data": {
            "text/plain": [
              "                                                 Prompt  \\\n",
              "0     A 50-year-old male presents with a history of ...   \n",
              "1     A 7-year-old boy presents with a fever, headac...   \n",
              "2     A 35-year-old woman presents with a persistent...   \n",
              "3     A 50-year-old male presents with severe abdomi...   \n",
              "4     A newborn baby presents with eye redness and a...   \n",
              "...                                                 ...   \n",
              "1407  A 55-year-old male with a history of chronic o...   \n",
              "1408  Can diet and lifestyle changes help manage vit...   \n",
              "1409  A 50-year-old female presents with right shoul...   \n",
              "1410  A 60-year-old female with high cholesterol lev...   \n",
              "1411  What are the main subtypes of vitiligo and how...   \n",
              "\n",
              "                                             Completion  \n",
              "0     This patient's history of recurrent kidney sto...  \n",
              "1     This child's symptoms of a red, bulging tympan...  \n",
              "2     While the symptoms might initially suggest ast...  \n",
              "3     The patient's symptoms suggest an incarcerated...  \n",
              "4     The infant's symptoms suggest neonatal conjunc...  \n",
              "...                                                 ...  \n",
              "1407  While this patient's symptoms could be due to ...  \n",
              "1408  While there is no specific diet or lifestyle m...  \n",
              "1409  This patient's shoulder and arm pain following...  \n",
              "1410  In addition to a diet low in saturated fats an...  \n",
              "1411  The main subtypes of vitiligo are non-segmenta...  \n",
              "\n",
              "[1412 rows x 2 columns]"
            ],
            "text/html": [
              "\n",
              "  <div id=\"df-c5c44722-bf75-469f-bab3-06355138261b\" class=\"colab-df-container\">\n",
              "    <div>\n",
              "<style scoped>\n",
              "    .dataframe tbody tr th:only-of-type {\n",
              "        vertical-align: middle;\n",
              "    }\n",
              "\n",
              "    .dataframe tbody tr th {\n",
              "        vertical-align: top;\n",
              "    }\n",
              "\n",
              "    .dataframe thead th {\n",
              "        text-align: right;\n",
              "    }\n",
              "</style>\n",
              "<table border=\"1\" class=\"dataframe\">\n",
              "  <thead>\n",
              "    <tr style=\"text-align: right;\">\n",
              "      <th></th>\n",
              "      <th>Prompt</th>\n",
              "      <th>Completion</th>\n",
              "    </tr>\n",
              "  </thead>\n",
              "  <tbody>\n",
              "    <tr>\n",
              "      <th>0</th>\n",
              "      <td>A 50-year-old male presents with a history of ...</td>\n",
              "      <td>This patient's history of recurrent kidney sto...</td>\n",
              "    </tr>\n",
              "    <tr>\n",
              "      <th>1</th>\n",
              "      <td>A 7-year-old boy presents with a fever, headac...</td>\n",
              "      <td>This child's symptoms of a red, bulging tympan...</td>\n",
              "    </tr>\n",
              "    <tr>\n",
              "      <th>2</th>\n",
              "      <td>A 35-year-old woman presents with a persistent...</td>\n",
              "      <td>While the symptoms might initially suggest ast...</td>\n",
              "    </tr>\n",
              "    <tr>\n",
              "      <th>3</th>\n",
              "      <td>A 50-year-old male presents with severe abdomi...</td>\n",
              "      <td>The patient's symptoms suggest an incarcerated...</td>\n",
              "    </tr>\n",
              "    <tr>\n",
              "      <th>4</th>\n",
              "      <td>A newborn baby presents with eye redness and a...</td>\n",
              "      <td>The infant's symptoms suggest neonatal conjunc...</td>\n",
              "    </tr>\n",
              "    <tr>\n",
              "      <th>...</th>\n",
              "      <td>...</td>\n",
              "      <td>...</td>\n",
              "    </tr>\n",
              "    <tr>\n",
              "      <th>1407</th>\n",
              "      <td>A 55-year-old male with a history of chronic o...</td>\n",
              "      <td>While this patient's symptoms could be due to ...</td>\n",
              "    </tr>\n",
              "    <tr>\n",
              "      <th>1408</th>\n",
              "      <td>Can diet and lifestyle changes help manage vit...</td>\n",
              "      <td>While there is no specific diet or lifestyle m...</td>\n",
              "    </tr>\n",
              "    <tr>\n",
              "      <th>1409</th>\n",
              "      <td>A 50-year-old female presents with right shoul...</td>\n",
              "      <td>This patient's shoulder and arm pain following...</td>\n",
              "    </tr>\n",
              "    <tr>\n",
              "      <th>1410</th>\n",
              "      <td>A 60-year-old female with high cholesterol lev...</td>\n",
              "      <td>In addition to a diet low in saturated fats an...</td>\n",
              "    </tr>\n",
              "    <tr>\n",
              "      <th>1411</th>\n",
              "      <td>What are the main subtypes of vitiligo and how...</td>\n",
              "      <td>The main subtypes of vitiligo are non-segmenta...</td>\n",
              "    </tr>\n",
              "  </tbody>\n",
              "</table>\n",
              "<p>1412 rows × 2 columns</p>\n",
              "</div>\n",
              "    <div class=\"colab-df-buttons\">\n",
              "\n",
              "  <div class=\"colab-df-container\">\n",
              "    <button class=\"colab-df-convert\" onclick=\"convertToInteractive('df-c5c44722-bf75-469f-bab3-06355138261b')\"\n",
              "            title=\"Convert this dataframe to an interactive table.\"\n",
              "            style=\"display:none;\">\n",
              "\n",
              "  <svg xmlns=\"http://www.w3.org/2000/svg\" height=\"24px\" viewBox=\"0 -960 960 960\">\n",
              "    <path d=\"M120-120v-720h720v720H120Zm60-500h600v-160H180v160Zm220 220h160v-160H400v160Zm0 220h160v-160H400v160ZM180-400h160v-160H180v160Zm440 0h160v-160H620v160ZM180-180h160v-160H180v160Zm440 0h160v-160H620v160Z\"/>\n",
              "  </svg>\n",
              "    </button>\n",
              "\n",
              "  <style>\n",
              "    .colab-df-container {\n",
              "      display:flex;\n",
              "      gap: 12px;\n",
              "    }\n",
              "\n",
              "    .colab-df-convert {\n",
              "      background-color: #E8F0FE;\n",
              "      border: none;\n",
              "      border-radius: 50%;\n",
              "      cursor: pointer;\n",
              "      display: none;\n",
              "      fill: #1967D2;\n",
              "      height: 32px;\n",
              "      padding: 0 0 0 0;\n",
              "      width: 32px;\n",
              "    }\n",
              "\n",
              "    .colab-df-convert:hover {\n",
              "      background-color: #E2EBFA;\n",
              "      box-shadow: 0px 1px 2px rgba(60, 64, 67, 0.3), 0px 1px 3px 1px rgba(60, 64, 67, 0.15);\n",
              "      fill: #174EA6;\n",
              "    }\n",
              "\n",
              "    .colab-df-buttons div {\n",
              "      margin-bottom: 4px;\n",
              "    }\n",
              "\n",
              "    [theme=dark] .colab-df-convert {\n",
              "      background-color: #3B4455;\n",
              "      fill: #D2E3FC;\n",
              "    }\n",
              "\n",
              "    [theme=dark] .colab-df-convert:hover {\n",
              "      background-color: #434B5C;\n",
              "      box-shadow: 0px 1px 3px 1px rgba(0, 0, 0, 0.15);\n",
              "      filter: drop-shadow(0px 1px 2px rgba(0, 0, 0, 0.3));\n",
              "      fill: #FFFFFF;\n",
              "    }\n",
              "  </style>\n",
              "\n",
              "    <script>\n",
              "      const buttonEl =\n",
              "        document.querySelector('#df-c5c44722-bf75-469f-bab3-06355138261b button.colab-df-convert');\n",
              "      buttonEl.style.display =\n",
              "        google.colab.kernel.accessAllowed ? 'block' : 'none';\n",
              "\n",
              "      async function convertToInteractive(key) {\n",
              "        const element = document.querySelector('#df-c5c44722-bf75-469f-bab3-06355138261b');\n",
              "        const dataTable =\n",
              "          await google.colab.kernel.invokeFunction('convertToInteractive',\n",
              "                                                    [key], {});\n",
              "        if (!dataTable) return;\n",
              "\n",
              "        const docLinkHtml = 'Like what you see? Visit the ' +\n",
              "          '<a target=\"_blank\" href=https://colab.research.google.com/notebooks/data_table.ipynb>data table notebook</a>'\n",
              "          + ' to learn more about interactive tables.';\n",
              "        element.innerHTML = '';\n",
              "        dataTable['output_type'] = 'display_data';\n",
              "        await google.colab.output.renderOutput(dataTable, element);\n",
              "        const docLink = document.createElement('div');\n",
              "        docLink.innerHTML = docLinkHtml;\n",
              "        element.appendChild(docLink);\n",
              "      }\n",
              "    </script>\n",
              "  </div>\n",
              "\n",
              "\n",
              "<div id=\"df-b73cf8e2-99d7-482f-b16d-5c3654b6ab26\">\n",
              "  <button class=\"colab-df-quickchart\" onclick=\"quickchart('df-b73cf8e2-99d7-482f-b16d-5c3654b6ab26')\"\n",
              "            title=\"Suggest charts\"\n",
              "            style=\"display:none;\">\n",
              "\n",
              "<svg xmlns=\"http://www.w3.org/2000/svg\" height=\"24px\"viewBox=\"0 0 24 24\"\n",
              "     width=\"24px\">\n",
              "    <g>\n",
              "        <path d=\"M19 3H5c-1.1 0-2 .9-2 2v14c0 1.1.9 2 2 2h14c1.1 0 2-.9 2-2V5c0-1.1-.9-2-2-2zM9 17H7v-7h2v7zm4 0h-2V7h2v10zm4 0h-2v-4h2v4z\"/>\n",
              "    </g>\n",
              "</svg>\n",
              "  </button>\n",
              "\n",
              "<style>\n",
              "  .colab-df-quickchart {\n",
              "      --bg-color: #E8F0FE;\n",
              "      --fill-color: #1967D2;\n",
              "      --hover-bg-color: #E2EBFA;\n",
              "      --hover-fill-color: #174EA6;\n",
              "      --disabled-fill-color: #AAA;\n",
              "      --disabled-bg-color: #DDD;\n",
              "  }\n",
              "\n",
              "  [theme=dark] .colab-df-quickchart {\n",
              "      --bg-color: #3B4455;\n",
              "      --fill-color: #D2E3FC;\n",
              "      --hover-bg-color: #434B5C;\n",
              "      --hover-fill-color: #FFFFFF;\n",
              "      --disabled-bg-color: #3B4455;\n",
              "      --disabled-fill-color: #666;\n",
              "  }\n",
              "\n",
              "  .colab-df-quickchart {\n",
              "    background-color: var(--bg-color);\n",
              "    border: none;\n",
              "    border-radius: 50%;\n",
              "    cursor: pointer;\n",
              "    display: none;\n",
              "    fill: var(--fill-color);\n",
              "    height: 32px;\n",
              "    padding: 0;\n",
              "    width: 32px;\n",
              "  }\n",
              "\n",
              "  .colab-df-quickchart:hover {\n",
              "    background-color: var(--hover-bg-color);\n",
              "    box-shadow: 0 1px 2px rgba(60, 64, 67, 0.3), 0 1px 3px 1px rgba(60, 64, 67, 0.15);\n",
              "    fill: var(--button-hover-fill-color);\n",
              "  }\n",
              "\n",
              "  .colab-df-quickchart-complete:disabled,\n",
              "  .colab-df-quickchart-complete:disabled:hover {\n",
              "    background-color: var(--disabled-bg-color);\n",
              "    fill: var(--disabled-fill-color);\n",
              "    box-shadow: none;\n",
              "  }\n",
              "\n",
              "  .colab-df-spinner {\n",
              "    border: 2px solid var(--fill-color);\n",
              "    border-color: transparent;\n",
              "    border-bottom-color: var(--fill-color);\n",
              "    animation:\n",
              "      spin 1s steps(1) infinite;\n",
              "  }\n",
              "\n",
              "  @keyframes spin {\n",
              "    0% {\n",
              "      border-color: transparent;\n",
              "      border-bottom-color: var(--fill-color);\n",
              "      border-left-color: var(--fill-color);\n",
              "    }\n",
              "    20% {\n",
              "      border-color: transparent;\n",
              "      border-left-color: var(--fill-color);\n",
              "      border-top-color: var(--fill-color);\n",
              "    }\n",
              "    30% {\n",
              "      border-color: transparent;\n",
              "      border-left-color: var(--fill-color);\n",
              "      border-top-color: var(--fill-color);\n",
              "      border-right-color: var(--fill-color);\n",
              "    }\n",
              "    40% {\n",
              "      border-color: transparent;\n",
              "      border-right-color: var(--fill-color);\n",
              "      border-top-color: var(--fill-color);\n",
              "    }\n",
              "    60% {\n",
              "      border-color: transparent;\n",
              "      border-right-color: var(--fill-color);\n",
              "    }\n",
              "    80% {\n",
              "      border-color: transparent;\n",
              "      border-right-color: var(--fill-color);\n",
              "      border-bottom-color: var(--fill-color);\n",
              "    }\n",
              "    90% {\n",
              "      border-color: transparent;\n",
              "      border-bottom-color: var(--fill-color);\n",
              "    }\n",
              "  }\n",
              "</style>\n",
              "\n",
              "  <script>\n",
              "    async function quickchart(key) {\n",
              "      const quickchartButtonEl =\n",
              "        document.querySelector('#' + key + ' button');\n",
              "      quickchartButtonEl.disabled = true;  // To prevent multiple clicks.\n",
              "      quickchartButtonEl.classList.add('colab-df-spinner');\n",
              "      try {\n",
              "        const charts = await google.colab.kernel.invokeFunction(\n",
              "            'suggestCharts', [key], {});\n",
              "      } catch (error) {\n",
              "        console.error('Error during call to suggestCharts:', error);\n",
              "      }\n",
              "      quickchartButtonEl.classList.remove('colab-df-spinner');\n",
              "      quickchartButtonEl.classList.add('colab-df-quickchart-complete');\n",
              "    }\n",
              "    (() => {\n",
              "      let quickchartButtonEl =\n",
              "        document.querySelector('#df-b73cf8e2-99d7-482f-b16d-5c3654b6ab26 button');\n",
              "      quickchartButtonEl.style.display =\n",
              "        google.colab.kernel.accessAllowed ? 'block' : 'none';\n",
              "    })();\n",
              "  </script>\n",
              "</div>\n",
              "    </div>\n",
              "  </div>\n"
            ]
          },
          "metadata": {},
          "execution_count": 4
        }
      ]
    },
    {
      "cell_type": "code",
      "execution_count": 5,
      "metadata": {
        "colab": {
          "base_uri": "https://localhost:8080/"
        },
        "id": "BfvGIlaNzBBe",
        "outputId": "f0269158-6af3-472b-ac62-1815bd147ddb"
      },
      "outputs": [
        {
          "output_type": "stream",
          "name": "stdout",
          "text": [
            "{'question': 'a 7 year old boy presents with a fever headache and severe earache . he also complains of dizziness and a spinning sensation . examination reveals a red bulging tympanic membrane . what are the differential diagnoses and what should be done next ?', 'answer': 'this child s symptoms of a red bulging tympanic membrane with systemic symptoms such as fever and headache and the additional symptoms of dizziness and a spinning sensation raise concern for complications of acute otitis media . the differential diagnosis could include labyrinthitis or possibly even mastoiditis . urgent evaluation including further imaging studies such as a ct or mri scan may be necessary . this child likely requires admission for intravenous antibiotics and possibly surgical intervention if mastoiditis is confirmed .'}\n",
            "1412\n",
            "1412\n"
          ]
        }
      ],
      "source": [
        "import csv\n",
        "import unicodedata #proporciona funciones para trabajar con caracteres Unicode.\n",
        "import re  #ofrece operaciones de expresiones regulares\n",
        "#Convierte una cadena Unicode s a su forma ASCII eliminando las marcas diacríticas\n",
        "def unicodeToAscii(s):\n",
        "    return ''.join(\n",
        "        c for c in unicodedata.normalize('NFD', s) #para normalizar la cadena al formato de descomposición canónica (NFD)\n",
        "        if unicodedata.category(c) != 'Mn'  #filtra los caracteres que no son marcadores no espaciadores (Mn)\n",
        "    )\n",
        "#Normaliza una cadena s\n",
        "def normalizeString(s):\n",
        "    s = unicodeToAscii(s.lower().strip())\n",
        "    s = re.sub(r\"([.!?])\", r\" \\1\", s)\n",
        "    s = re.sub(r\"[^a-zA-Z0-9.!?]+\", r\" \", s)  # Conserva números\n",
        "    return s\n",
        "\n",
        "\n",
        "preguntas = []\n",
        "respuestas = []\n",
        "\n",
        "with open('/content/drive/MyDrive/2-SIS421/ExamenFinal/medtext_2.csv', 'r') as file:\n",
        "    reader = csv.reader(file)\n",
        "    next(reader)  # Ignorar la primera fila (encabezados)\n",
        "    for row in reader:\n",
        "        #normaliza las preguntas y respuestas utilizando las funciones definidas anteriormente\n",
        "        pregunta = normalizeString(row[0])\n",
        "        respuesta = normalizeString(row[1])\n",
        "        preguntas.append(pregunta)\n",
        "        respuestas.append(respuesta)\n",
        "\n",
        "data = [{'question': q, 'answer': a} for q, a in zip(preguntas, respuestas)]\n",
        "\n",
        "# Imprimir el primer diálogo\n",
        "print(data[1])\n",
        "print(len(data))\n",
        "dialogues = data\n",
        "print(len(dialogues))"
      ]
    },
    {
      "cell_type": "code",
      "execution_count": 6,
      "metadata": {
        "colab": {
          "base_uri": "https://localhost:8080/"
        },
        "id": "LnnSnaGNNJnK",
        "outputId": "ee610ecd-dd07-483b-d9eb-865ee767d16a"
      },
      "outputs": [
        {
          "output_type": "stream",
          "name": "stdout",
          "text": [
            "Máximo número de palabras: 120\n"
          ]
        }
      ],
      "source": [
        "max_words = 0\n",
        "# Iterar sobre cada par de preguntas y respuestas en el conjunto de datos\n",
        "for pair in dialogues:\n",
        "    input_words = pair['question'].split()  # Dividir la entrada en palabras individuales\n",
        "    output_words = pair['answer'].split()  # Dividir la salida en palabras individuales\n",
        "    # Determinar el número máximo de palabras entre la pregunta y la respuesta\n",
        "    num_words = max(len(input_words), len(output_words))\n",
        "\n",
        "    if num_words > max_words:\n",
        "        max_words = num_words\n",
        "\n",
        "print(\"Máximo número de palabras:\", max_words)\n"
      ]
    },
    {
      "cell_type": "code",
      "execution_count": 7,
      "metadata": {
        "id": "gJNMB-ARsLPO",
        "colab": {
          "base_uri": "https://localhost:8080/",
          "height": 113,
          "referenced_widgets": [
            "291f4fe9e3c84a41bf09f6c3e861790e",
            "ea7adf55418740acbe263a76de7fa8f1",
            "ff53511ee1f84db6bfcc8c40a3d30218",
            "8fb11597cf824627b2bd4901d37afae1",
            "6353df2cf84c4d9a90dc01ea6ba8f3d5",
            "b776253eb29a4ea38e33e9fea8dedab8",
            "34930ff6b3ae4c79b5651cf86de61e8a",
            "d7f05547eddd429cb44410391e913a61",
            "bdffe923986649319838ad813a83bdfe",
            "5cd7b1f625064691adb307393d02c07c",
            "063b190be2304367888b86a0d3d8eea4",
            "b514897b8fab4706bf09362cb1ec1dbb",
            "c324ae75873d43f49bbf89afe3992d37",
            "4abd3a54d85846e083005ee192356349",
            "ed231b0dbe4746679102946ad7ec0ca3",
            "03db3a5b53164c6c9a51966d99a31821",
            "f0a32d8ddffe4463a99590e565b9a173",
            "2f18454e9b4a4e358d102dfba0e27287",
            "5ce4a523aa3f4c8fb513da4aa80ab66f",
            "d09f435ffed94eb79daf1606a70a7eb9",
            "4431972bd32840de9b47aec1b93c9685",
            "ca2dd535ffd449af82ef534b89a14052",
            "e50364a87631461d96d9cac1f53f59b2",
            "acf1bbd04bb7434e82062b3736175259",
            "71d6d178e5b1497f9dd9b9b6e82f1493",
            "41857b3ab8c54f08bb0577b9fed194da",
            "db81b7389ad349f7a9eb9a3c1e4d7155",
            "296d8867b5344702827adae3f9741067",
            "5395893403524b96a4b4a9875b90e0da",
            "99181d32b0584a3b9874da64ce03e210",
            "1dfe78d6ce7d43b292f8b4305023eb58",
            "a9eb82fc157c48b98dfe3f0ad3255a78",
            "dd538ac77b374ad9b35976c88e563a06"
          ]
        },
        "outputId": "0b457027-c40b-4792-9929-b1958f2f6f54"
      },
      "outputs": [
        {
          "output_type": "display_data",
          "data": {
            "text/plain": [
              "vocab.json:   0%|          | 0.00/964k [00:00<?, ?B/s]"
            ],
            "application/vnd.jupyter.widget-view+json": {
              "version_major": 2,
              "version_minor": 0,
              "model_id": "291f4fe9e3c84a41bf09f6c3e861790e"
            }
          },
          "metadata": {}
        },
        {
          "output_type": "display_data",
          "data": {
            "text/plain": [
              "merges.txt:   0%|          | 0.00/345k [00:00<?, ?B/s]"
            ],
            "application/vnd.jupyter.widget-view+json": {
              "version_major": 2,
              "version_minor": 0,
              "model_id": "b514897b8fab4706bf09362cb1ec1dbb"
            }
          },
          "metadata": {}
        },
        {
          "output_type": "display_data",
          "data": {
            "text/plain": [
              "config.json:   0%|          | 0.00/1.45k [00:00<?, ?B/s]"
            ],
            "application/vnd.jupyter.widget-view+json": {
              "version_major": 2,
              "version_minor": 0,
              "model_id": "e50364a87631461d96d9cac1f53f59b2"
            }
          },
          "metadata": {}
        }
      ],
      "source": [
        "import torch\n",
        "#cargamos el tokenizador de blenderbot\n",
        "from transformers import BlenderbotSmallTokenizer\n",
        "tokenizer = BlenderbotSmallTokenizer.from_pretrained(\"facebook/blenderbot-90M\")"
      ]
    },
    {
      "cell_type": "code",
      "execution_count": 8,
      "metadata": {
        "id": "ECFvNg6VsLL3"
      },
      "outputs": [],
      "source": [
        "import torch\n",
        "from torch.utils.data import Dataset\n",
        "\n",
        "class CustomDataset(Dataset):\n",
        "    def __init__(self, train_data, tokenizer, max_length):\n",
        "        self.train_data = train_data\n",
        "        self.tokenizer = tokenizer\n",
        "        self.max_length = max_length\n",
        "\n",
        "    def __len__(self):\n",
        "        return len(self.train_data) # Devuelve la longitud total del conjunto de datos\n",
        "\n",
        "    def __getitem__(self, idx):\n",
        "        question = self.train_data[idx]['question'] # Obtiene la pregunta del par actual\n",
        "        answer = self.train_data[idx]['answer'] # Obtiene la respuesta del par actual\n",
        "\n",
        "        # Codificación de la pregunta\n",
        "        question_encoding = self.tokenizer.encode_plus(\n",
        "            question,\n",
        "            add_special_tokens=True,\n",
        "            max_length=self.max_length,\n",
        "            truncation=True,\n",
        "            padding='max_length',\n",
        "            return_tensors='pt'\n",
        "        )\n",
        "\n",
        "        input_ids = question_encoding['input_ids'].squeeze() # ID de tokens de entrada para la pregunta\n",
        "        attention_mask = question_encoding['attention_mask'].squeeze() # Máscara de atención para la pregunta\n",
        "\n",
        "        # Codificación de la respuesta\n",
        "        answer_encoding = self.tokenizer.encode_plus(\n",
        "            answer,\n",
        "            add_special_tokens=True,\n",
        "            max_length=self.max_length,\n",
        "            truncation=True,\n",
        "            padding='max_length',\n",
        "            return_tensors='pt'\n",
        "        )\n",
        "\n",
        "        target_ids = answer_encoding['input_ids'].squeeze()  # ID de tokens objetivo para la respuesta\n",
        "        target_ids_mak = answer_encoding['attention_mask'].squeeze() # Máscara de atención para la respuesta\n",
        "\n",
        "       # Devuelve un diccionario con los datos de para en par de las pregunta y respuesta\n",
        "        return {\n",
        "            'input_ids': input_ids,\n",
        "            'attention_mask': attention_mask,\n",
        "            'target_ids': target_ids,\n",
        "            'attention_target': target_ids_mak\n",
        "        }\n"
      ]
    },
    {
      "cell_type": "code",
      "execution_count": 9,
      "metadata": {
        "id": "VZGH-s0tCch4"
      },
      "outputs": [],
      "source": [
        "from torch.utils.data import DataLoader\n",
        "from sklearn.model_selection import train_test_split\n",
        "#dividimos nuestros datos procesados  en entranamiento y prueba\n",
        "train_size = len(dialogues) * 80 // 100\n",
        "train_pairs = dialogues[:train_size]\n",
        "test_pairs = dialogues[train_size:]\n",
        "\n",
        "# Crear una instancia para el conjunto de datos  tokenizados\n",
        "max_length = 130\n",
        "train_dataset = CustomDataset(train_pairs, tokenizer, max_length)\n",
        "test_dataset = CustomDataset(test_pairs, tokenizer, max_length)\n",
        "\n",
        "# Creamos  DataLoader de entrenamiento y de test\n",
        "train_dataloader = DataLoader(train_dataset, batch_size=16, shuffle=True)\n",
        "test_dataloader = DataLoader(test_dataset, batch_size=32, shuffle=True)\n"
      ]
    },
    {
      "cell_type": "code",
      "execution_count": 15,
      "metadata": {
        "colab": {
          "base_uri": "https://localhost:8080/"
        },
        "id": "1nIkSxYtQWv0",
        "outputId": "f9f55586-1351-4219-f041-37039441616e"
      },
      "outputs": [
        {
          "output_type": "stream",
          "name": "stdout",
          "text": [
            "tensor([   12,  1975,   169,   217,   386,    28,   317,  7748,  6645,    28,\n",
            "        22816,  1584, 11225, 15864,    25,    33,  1174,     5,    34,  2884,\n",
            "           22,   150, 15864,    49,    78,  1436,  5155,   101,     7,   703,\n",
            "          487,   734,     5,    44,   107,    43,     7,   878,     9,   277,\n",
            "         2369,    20,     0,     0,     0,     0,     0,     0,     0,     0,\n",
            "            0,     0,     0,     0,     0,     0,     0,     0,     0,     0,\n",
            "            0,     0,     0,     0,     0,     0,     0,     0,     0,     0,\n",
            "            0,     0,     0,     0,     0,     0,     0,     0,     0,     0,\n",
            "            0,     0,     0,     0,     0,     0,     0,     0,     0,     0,\n",
            "            0,     0,     0,     0,     0,     0,     0,     0,     0,     0,\n",
            "            0,     0,     0,     0,     0,     0,     0,     0,     0,     0,\n",
            "            0,     0,     0,     0,     0,     0,     0,     0,     0,     0,\n",
            "            0,     0,     0,     0,     0,     0,     0,     0,     0,     0])\n",
            "tensor([1, 1, 1, 1, 1, 1, 1, 1, 1, 1, 1, 1, 1, 1, 1, 1, 1, 1, 1, 1, 1, 1, 1, 1,\n",
            "        1, 1, 1, 1, 1, 1, 1, 1, 1, 1, 1, 1, 1, 1, 1, 1, 1, 1, 0, 0, 0, 0, 0, 0,\n",
            "        0, 0, 0, 0, 0, 0, 0, 0, 0, 0, 0, 0, 0, 0, 0, 0, 0, 0, 0, 0, 0, 0, 0, 0,\n",
            "        0, 0, 0, 0, 0, 0, 0, 0, 0, 0, 0, 0, 0, 0, 0, 0, 0, 0, 0, 0, 0, 0, 0, 0,\n",
            "        0, 0, 0, 0, 0, 0, 0, 0, 0, 0, 0, 0, 0, 0, 0, 0, 0, 0, 0, 0, 0, 0, 0, 0,\n",
            "        0, 0, 0, 0, 0, 0, 0, 0, 0, 0])\n"
          ]
        }
      ],
      "source": [
        "#Itereamos para ver si los resultados de los dataloaders estan correctamente\n",
        "batch = next(iter(train_dataloader))\n",
        "input_ids = batch['input_ids']\n",
        "attention_inputs = batch['attention_mask']\n",
        "target_ids = batch['target_ids']\n",
        "attention_target = batch['attention_target']\n",
        "\n",
        "#print(len(train_dataloader))\n",
        "print(input_ids[0])\n",
        "print(attention_inputs[0])\n",
        "#print(target_ids.shape,target_ids[2])\n"
      ]
    },
    {
      "cell_type": "code",
      "execution_count": 16,
      "metadata": {
        "id": "S74Fvg015EJs"
      },
      "outputs": [],
      "source": [
        "# Obtén los datos relevantes del dataloader para guardarlos\n",
        "import torch\n",
        "train_data = {\n",
        "    \"pregunta_input_ids\": input_ids,\n",
        "    \"attention_input\": attention_inputs,\n",
        "    \"respuesta_ids\": target_ids,\n",
        "    \"attention_respuesta\": attention_target\n",
        "}\n",
        "\n",
        "# Guarda los datos en un archivo separado\n",
        "torch.save(train_data, \"train_data.pth\")\n"
      ]
    },
    {
      "cell_type": "code",
      "execution_count": 17,
      "metadata": {
        "colab": {
          "base_uri": "https://localhost:8080/"
        },
        "id": "L_ICQnzK5Sgc",
        "outputId": "ccfd5a42-4ca9-480e-e429-46d219157531"
      },
      "outputs": [
        {
          "output_type": "stream",
          "name": "stdout",
          "text": [
            "torch.Size([16, 130])\n"
          ]
        }
      ],
      "source": [
        "# Cargar los datos desde el archivo\n",
        "train_data = torch.load(\"train_data.pth\")\n",
        "\n",
        "# Acceder a los datos\n",
        "pregunta_input_ids = train_data[\"pregunta_input_ids\"]\n",
        "attention_inputs = train_data[\"attention_input\"]\n",
        "respuesta_input_ids = train_data[\"respuesta_ids\"]\n",
        "attention_respuesta = train_data[\"attention_respuesta\"]\n",
        "print(attention_respuesta.shape)"
      ]
    },
    {
      "cell_type": "code",
      "execution_count": 18,
      "metadata": {
        "colab": {
          "base_uri": "https://localhost:8080/"
        },
        "id": "GYpWBmD_ywE4",
        "outputId": "64fa21b0-a34f-4603-a644-985a059becbd"
      },
      "outputs": [
        {
          "output_type": "stream",
          "name": "stdout",
          "text": [
            "Pregunta:\n",
            "a 35 year old woman with pcos presents with yellowish waxy bumps on her skin. she reports that these bumps have been slowly appearing over the past six months. what could be the cause and next steps?\n",
            "Respuesta:\n",
            "this patient s skin findings could be ive of eruptive xanthomas which are skin lesions caused by the deposition of lipids in the skin and are often associated with high levels of blood lipids. women with pcos are at higher risk for dyslipidemia due to insulin resistance. the next step would be to confirm this diagnosis with a lipid panel blood test. if her lipid levels are indeed high lifestyle modifications and potentially lipid lowering medications would be recommended.\n"
          ]
        }
      ],
      "source": [
        "# Imprimir las preguntas y respuestas del primer ejemplo en el lote\n",
        "print(\"Pregunta:\")\n",
        "print(tokenizer.decode(pregunta_input_ids[0], skip_special_tokens=True))\n",
        "\n",
        "print(\"Respuesta:\")\n",
        "print(tokenizer.decode(respuesta_input_ids[0], skip_special_tokens=True))"
      ]
    },
    {
      "cell_type": "code",
      "execution_count": 19,
      "metadata": {
        "colab": {
          "base_uri": "https://localhost:8080/",
          "height": 1000,
          "referenced_widgets": [
            "1648a37c71b94e9da4dffe98d432a5dd",
            "84a76c9af6fe4f43ab3586802adcdc72",
            "59bf9d2898e54e22aae942c67241e3af",
            "f61bcb071cc6427b9024474f89f73dc3",
            "d8b7fa912583457e96fa50ee0108a5f0",
            "ba30d485982a46d2930d80670dfbfc50",
            "e268e609cf91451fa25c5005e89be120",
            "6acc10e2fcf34766bc88bf4a0af7fe77",
            "ac20f1475fb24e21bbde679a84afcf6f",
            "772a23b5d70c488c8a0b49613d9e0944",
            "ed4ef43cd13042548b93e1c3b267dccb",
            "f72a52b0d7f54bd4b03a2bb3b90fab1a",
            "218abb1632f54a8683618947ee724ad2",
            "937150b04d6e4c11bcafbd3157de72c6",
            "7f982147c52549ed8094d7a6a9818b93",
            "27013f0773a9442a8803c5a38527d764",
            "87cb312c802c49d982d5eea0a74851c6",
            "642d40017c404e33a300d2671391a120",
            "c479ca1fad8842ab9952223c27bc4e62",
            "90dd23b357f94753b60e3fbe705a2fef",
            "8cda0633015c4d179f8c79eb2cf960f7",
            "42e3df17b6754b59ab8077a577a6ea90"
          ]
        },
        "id": "vqA5ngteV3g_",
        "outputId": "da7ad205-0f4e-4949-f6a8-9b3a696820a7"
      },
      "outputs": [
        {
          "output_type": "display_data",
          "data": {
            "text/plain": [
              "pytorch_model.bin:   0%|          | 0.00/350M [00:00<?, ?B/s]"
            ],
            "application/vnd.jupyter.widget-view+json": {
              "version_major": 2,
              "version_minor": 0,
              "model_id": "1648a37c71b94e9da4dffe98d432a5dd"
            }
          },
          "metadata": {}
        },
        {
          "output_type": "display_data",
          "data": {
            "text/plain": [
              "generation_config.json:   0%|          | 0.00/311 [00:00<?, ?B/s]"
            ],
            "application/vnd.jupyter.widget-view+json": {
              "version_major": 2,
              "version_minor": 0,
              "model_id": "f72a52b0d7f54bd4b03a2bb3b90fab1a"
            }
          },
          "metadata": {}
        },
        {
          "output_type": "execute_result",
          "data": {
            "text/plain": [
              "BlenderbotSmallForConditionalGeneration(\n",
              "  (model): BlenderbotSmallModel(\n",
              "    (shared): Embedding(54944, 512, padding_idx=0)\n",
              "    (encoder): BlenderbotSmallEncoder(\n",
              "      (embed_tokens): Embedding(54944, 512, padding_idx=0)\n",
              "      (embed_positions): BlenderbotSmallLearnedPositionalEmbedding(512, 512)\n",
              "      (layers): ModuleList(\n",
              "        (0-7): 8 x BlenderbotSmallEncoderLayer(\n",
              "          (self_attn): BlenderbotSmallAttention(\n",
              "            (k_proj): Linear(in_features=512, out_features=512, bias=True)\n",
              "            (v_proj): Linear(in_features=512, out_features=512, bias=True)\n",
              "            (q_proj): Linear(in_features=512, out_features=512, bias=True)\n",
              "            (out_proj): Linear(in_features=512, out_features=512, bias=True)\n",
              "          )\n",
              "          (self_attn_layer_norm): LayerNorm((512,), eps=1e-05, elementwise_affine=True)\n",
              "          (activation_fn): GELUActivation()\n",
              "          (fc1): Linear(in_features=512, out_features=2048, bias=True)\n",
              "          (fc2): Linear(in_features=2048, out_features=512, bias=True)\n",
              "          (final_layer_norm): LayerNorm((512,), eps=1e-05, elementwise_affine=True)\n",
              "        )\n",
              "      )\n",
              "      (layernorm_embedding): LayerNorm((512,), eps=1e-05, elementwise_affine=True)\n",
              "    )\n",
              "    (decoder): BlenderbotSmallDecoder(\n",
              "      (embed_tokens): Embedding(54944, 512, padding_idx=0)\n",
              "      (embed_positions): BlenderbotSmallLearnedPositionalEmbedding(512, 512)\n",
              "      (layers): ModuleList(\n",
              "        (0-7): 8 x BlenderbotSmallDecoderLayer(\n",
              "          (self_attn): BlenderbotSmallAttention(\n",
              "            (k_proj): Linear(in_features=512, out_features=512, bias=True)\n",
              "            (v_proj): Linear(in_features=512, out_features=512, bias=True)\n",
              "            (q_proj): Linear(in_features=512, out_features=512, bias=True)\n",
              "            (out_proj): Linear(in_features=512, out_features=512, bias=True)\n",
              "          )\n",
              "          (activation_fn): GELUActivation()\n",
              "          (self_attn_layer_norm): LayerNorm((512,), eps=1e-05, elementwise_affine=True)\n",
              "          (encoder_attn): BlenderbotSmallAttention(\n",
              "            (k_proj): Linear(in_features=512, out_features=512, bias=True)\n",
              "            (v_proj): Linear(in_features=512, out_features=512, bias=True)\n",
              "            (q_proj): Linear(in_features=512, out_features=512, bias=True)\n",
              "            (out_proj): Linear(in_features=512, out_features=512, bias=True)\n",
              "          )\n",
              "          (encoder_attn_layer_norm): LayerNorm((512,), eps=1e-05, elementwise_affine=True)\n",
              "          (fc1): Linear(in_features=512, out_features=2048, bias=True)\n",
              "          (fc2): Linear(in_features=2048, out_features=512, bias=True)\n",
              "          (final_layer_norm): LayerNorm((512,), eps=1e-05, elementwise_affine=True)\n",
              "        )\n",
              "      )\n",
              "      (layernorm_embedding): LayerNorm((512,), eps=1e-05, elementwise_affine=True)\n",
              "    )\n",
              "  )\n",
              "  (lm_head): Linear(in_features=512, out_features=54944, bias=False)\n",
              ")"
            ]
          },
          "metadata": {},
          "execution_count": 19
        }
      ],
      "source": [
        "import torch\n",
        "#cargamos el Transformer blenderbot\n",
        "from transformers import BlenderbotSmallForConditionalGeneration\n",
        "\n",
        "model= BlenderbotSmallForConditionalGeneration.from_pretrained(\"facebook/blenderbot-90M\")\n",
        "#mostramos en modelo para ver su arquitectura\n",
        "model"
      ]
    },
    {
      "cell_type": "markdown",
      "source": [
        "Encoder (Codificador):\n",
        "\n",
        "Toma una secuencia de entrada (por ejemplo, una oración en lenguaje natural).\n",
        "Transforma cada elemento de la secuencia (por ejemplo, cada palabra en la oración) en un espacio vectorial (embedding).\n",
        "Captura la información contextual y la representa en un conjunto de vectores.\n",
        "Genera una representación contextualizada de la entrada, que puede contener información sobre la relación entre los elementos de la secuencia.\n",
        "\n",
        "Decoder (Decodificador):\n",
        "\n",
        "Toma la representación contextualizada generada por el encoder.\n",
        "Genera una secuencia de salida paso a paso, prediciendo el siguiente elemento de la secuencia en cada paso.\n",
        "Utiliza la información contextual del encoder y la información ya generada para predecir cada elemento siguiente de manera coherente.\n",
        "La salida del decoder puede ser, por ejemplo, una traducción de la entrada (si estamos tratando con un modelo de traducción) o una respuesta generada (si estamos tratando con un modelo de chat)."
      ],
      "metadata": {
        "id": "iJp_D02lEwu_"
      }
    },
    {
      "cell_type": "code",
      "execution_count": 20,
      "metadata": {
        "id": "1zuME7vRP_s1"
      },
      "outputs": [],
      "source": [
        "import torch\n",
        "import torch.nn as nn\n",
        "class EncoderDecoder(torch.nn.Module):\n",
        "    def __init__(self):\n",
        "        super(EncoderDecoder, self).__init__()\n",
        "        #cargamos el transformer\n",
        "        self.blenderbot_model = BlenderbotSmallForConditionalGeneration.from_pretrained(\"facebook/blenderbot-90M\")\n",
        "        # Congelar todos los parámetros del modelo preentrenado\n",
        "        for param in self.blenderbot_model.parameters():\n",
        "            param.requires_grad = False\n",
        "        # encoder del modelo\n",
        "        self.encoder = self.blenderbot_model.model.encoder\n",
        "        #decoder delo modelo\n",
        "        self.decoder = self.blenderbot_model.model.decoder\n",
        "        self.generate = self.blenderbot_model.model.decoder.layernorm_embedding\n",
        "        #Es una capa lineal que se entrena para mapear la representación oculta de la última capa del decoder a la distribución de probabilidad sobre el vocabulario.\n",
        "        self.lm_head = self.blenderbot_model.lm_head\n",
        "\n",
        "        # Descongelar los parámetros de la última capa del encoder para fine-tuning\n",
        "        for layer in self.encoder.layers[-1:]:\n",
        "            for param in layer.parameters():\n",
        "                param.requires_grad = True\n",
        "\n",
        "        # Descongelar los parámetros de la última capa del decoder para fine-tuning\n",
        "        for layer in self.decoder.layers[:-2]:\n",
        "            for param in layer.parameters():\n",
        "                param.requires_grad = False\n",
        "\n",
        "        # Descongelar los parámetros de la última capa (lm_head) para fine-tuning\n",
        "        #for param in self.lm_head.parameters():\n",
        "         #   param.requires_grad = True\n",
        "\n",
        "\n",
        "    def forward(self, input_ids, attention_mask, decoder_input_ids, decoder_attention_mask):\n",
        "        with torch.no_grad():\n",
        "            # introducir los valores que se nesecita para el encoder  y sacamos la ultima capa oculta del encoder\n",
        "            encoder_outputs = self.encoder(input_ids=input_ids, attention_mask=attention_mask).last_hidden_state\n",
        "            #print(encoder_outputs.shape)\n",
        "            #introducir la salida del encoder  al decoder y tambien las las respuestas tokenizadas ,\n",
        "            # sacamos la ultima capa del decoder\n",
        "            decoder_outputs = self.decoder(\n",
        "                    input_ids=decoder_input_ids,\n",
        "                    attention_mask=decoder_attention_mask,\n",
        "                    encoder_hidden_states=encoder_outputs\n",
        "                ).last_hidden_state\n",
        "\n",
        "            #sacamos el mapeo de la ultima capa del decoder\n",
        "            lm_output = self.lm_head(decoder_outputs)\n",
        "\n",
        "        return  lm_output\n"
      ]
    },
    {
      "cell_type": "code",
      "execution_count": 21,
      "metadata": {
        "colab": {
          "base_uri": "https://localhost:8080/"
        },
        "id": "SXWIaBfWQEca",
        "outputId": "5744b848-1eab-4d3c-ac15-30522dde479a"
      },
      "outputs": [
        {
          "output_type": "stream",
          "name": "stdout",
          "text": [
            "torch.Size([16, 130, 54944]) tensor([[ -2.4774, -10.0391,   2.3303,  ...,  -2.4750,  -2.4827,  -2.4730],\n",
            "        [ -3.7953,  -9.3873,   6.1254,  ...,  -3.7939,  -3.7974,  -3.7927],\n",
            "        [ -3.2837,  -3.3455,   5.8868,  ...,  -3.2803,  -3.2869,  -3.2802],\n",
            "        ...,\n",
            "        [ -2.9225,  -6.7612,  10.0714,  ...,  -2.9196,  -2.9248,  -2.9206],\n",
            "        [  2.2018,  -3.4307,   6.6625,  ...,   2.2059,   2.1962,   2.2098],\n",
            "        [  2.2276,  -3.4458,   6.6977,  ...,   2.2316,   2.2220,   2.2356]])\n"
          ]
        }
      ],
      "source": [
        "modelo = EncoderDecoder()\n",
        "decoder_outputs = modelo(input_ids,attention_inputs,target_ids,attention_target)\n",
        "print(decoder_outputs.shape,decoder_outputs[2])"
      ]
    },
    {
      "cell_type": "code",
      "execution_count": 22,
      "metadata": {
        "id": "mwctWYOjuEuG"
      },
      "outputs": [],
      "source": [
        "from tqdm import tqdm\n",
        "import numpy as np\n",
        "import torch.nn.functional as F\n",
        "\n",
        "def fit(model, dataloader,dataloader2 ,epochs=10):\n",
        "    encoder_optimizer = torch.optim.AdamW(model.parameters(), lr=1e-3)\n",
        "    criterio=torch.nn.CrossEntropyLoss()\n",
        "\n",
        "    for epoch in range(1, epochs+1):\n",
        "        model.train()\n",
        "        train_loss = []\n",
        "        bar = tqdm(dataloader)\n",
        "        for batch in bar:\n",
        "            input_ids = batch['input_ids']\n",
        "            attention_inputs = batch['attention_mask']\n",
        "            target_ids = batch['target_ids']\n",
        "            attention_target = batch['attention_target']\n",
        "\n",
        "            encoder_optimizer.zero_grad()\n",
        "            decoder_outputs = model(input_ids, attention_inputs, target_ids, attention_target)\n",
        "            # Convertir el target en un tensor de probabilidades\n",
        "            target_probs = F.one_hot(target_ids, num_classes=54944).float()  # ahora tiene forma (62, 130, 54944)\n",
        "            target_ids=target_probs.requires_grad_()\n",
        "\n",
        "            # Calcular la pérdida de entropía cruzada\n",
        "            loss = F.binary_cross_entropy_with_logits(decoder_outputs, target_ids)\n",
        "\n",
        "            loss.backward()\n",
        "            encoder_optimizer.step()\n",
        "\n",
        "            train_loss.append(loss.item())\n",
        "\n",
        "        avg_loss = np.mean(train_loss)\n",
        "        # Evaluar el modelo en el conjunto de datos de prueba\n",
        "        model.eval()\n",
        "        test_loss = []\n",
        "        with torch.no_grad():\n",
        "            for batch in test_dataloader:\n",
        "                input_ids = batch['input_ids']\n",
        "                attention_inputs = batch['attention_mask']\n",
        "                target_ids = batch['target_ids']\n",
        "                attention_target = batch['attention_target']\n",
        "\n",
        "                decoder_outputs = model(input_ids, attention_inputs, target_ids, attention_target)\n",
        "                target_probs = F.one_hot(target_ids, num_classes=54944).float()\n",
        "                target_ids=target_probs.requires_grad_()\n",
        "                loss = F.binary_cross_entropy_with_logits(decoder_outputs, target_ids)\n",
        "\n",
        "                test_loss.append(loss.item())\n",
        "\n",
        "        # Calcular la pérdida promedio de la evaluación\n",
        "        avg_test_loss = np.mean(test_loss)\n",
        "\n",
        "        # Imprimir los resultados de la época actual\n",
        "        print('Epoch:', epoch, 'Train Loss:', avg_loss, 'Test Loss:', avg_test_loss)\n"
      ]
    },
    {
      "cell_type": "code",
      "execution_count": 23,
      "metadata": {
        "colab": {
          "base_uri": "https://localhost:8080/"
        },
        "id": "PmKP55Llu3gH",
        "outputId": "19fbda2e-a97a-49ab-e2c1-1534bff583c6"
      },
      "outputs": [
        {
          "output_type": "stream",
          "name": "stderr",
          "text": [
            "100%|██████████| 71/71 [09:36<00:00,  8.12s/it]\n"
          ]
        },
        {
          "output_type": "stream",
          "name": "stdout",
          "text": [
            "Epoch: 1 Train Loss: 0.45514758246045717 Test Loss: 0.4208089874850379\n"
          ]
        },
        {
          "output_type": "stream",
          "name": "stderr",
          "text": [
            "100%|██████████| 71/71 [09:34<00:00,  8.09s/it]\n"
          ]
        },
        {
          "output_type": "stream",
          "name": "stdout",
          "text": [
            "Epoch: 2 Train Loss: 0.4479096636805736 Test Loss: 0.4201968212922414\n"
          ]
        },
        {
          "output_type": "stream",
          "name": "stderr",
          "text": [
            "100%|██████████| 71/71 [09:37<00:00,  8.14s/it]\n"
          ]
        },
        {
          "output_type": "stream",
          "name": "stdout",
          "text": [
            "Epoch: 3 Train Loss: 0.45159139137872506 Test Loss: 0.4203742245833079\n"
          ]
        },
        {
          "output_type": "stream",
          "name": "stderr",
          "text": [
            "100%|██████████| 71/71 [09:41<00:00,  8.19s/it]\n"
          ]
        },
        {
          "output_type": "stream",
          "name": "stdout",
          "text": [
            "Epoch: 4 Train Loss: 0.44984537992678897 Test Loss: 0.4199450413386027\n"
          ]
        },
        {
          "output_type": "stream",
          "name": "stderr",
          "text": [
            "100%|██████████| 71/71 [09:27<00:00,  7.99s/it]\n"
          ]
        },
        {
          "output_type": "stream",
          "name": "stdout",
          "text": [
            "Epoch: 5 Train Loss: 0.44837295631287805 Test Loss: 0.41890110903316075\n"
          ]
        },
        {
          "output_type": "stream",
          "name": "stderr",
          "text": [
            "100%|██████████| 71/71 [09:37<00:00,  8.13s/it]\n"
          ]
        },
        {
          "output_type": "stream",
          "name": "stdout",
          "text": [
            "Epoch: 6 Train Loss: 0.44440252050547535 Test Loss: 0.41902613639831543\n"
          ]
        },
        {
          "output_type": "stream",
          "name": "stderr",
          "text": [
            "100%|██████████| 71/71 [09:52<00:00,  8.35s/it]\n"
          ]
        },
        {
          "output_type": "stream",
          "name": "stdout",
          "text": [
            "Epoch: 7 Train Loss: 0.44856203399913414 Test Loss: 0.41996335983276367\n"
          ]
        },
        {
          "output_type": "stream",
          "name": "stderr",
          "text": [
            "100%|██████████| 71/71 [09:44<00:00,  8.23s/it]\n"
          ]
        },
        {
          "output_type": "stream",
          "name": "stdout",
          "text": [
            "Epoch: 8 Train Loss: 0.4479589793883579 Test Loss: 0.41907835337850785\n"
          ]
        },
        {
          "output_type": "stream",
          "name": "stderr",
          "text": [
            "100%|██████████| 71/71 [09:42<00:00,  8.21s/it]\n"
          ]
        },
        {
          "output_type": "stream",
          "name": "stdout",
          "text": [
            "Epoch: 9 Train Loss: 0.44742205193344975 Test Loss: 0.41988933748669094\n"
          ]
        },
        {
          "output_type": "stream",
          "name": "stderr",
          "text": [
            "100%|██████████| 71/71 [09:49<00:00,  8.30s/it]\n"
          ]
        },
        {
          "output_type": "stream",
          "name": "stdout",
          "text": [
            "Epoch: 10 Train Loss: 0.4419956236657962 Test Loss: 0.41868460178375244\n"
          ]
        },
        {
          "output_type": "stream",
          "name": "stderr",
          "text": [
            "100%|██████████| 71/71 [09:43<00:00,  8.22s/it]\n"
          ]
        },
        {
          "output_type": "stream",
          "name": "stdout",
          "text": [
            "Epoch: 11 Train Loss: 0.4504823344694057 Test Loss: 0.4194084107875824\n"
          ]
        },
        {
          "output_type": "stream",
          "name": "stderr",
          "text": [
            "100%|██████████| 71/71 [09:34<00:00,  8.09s/it]\n"
          ]
        },
        {
          "output_type": "stream",
          "name": "stdout",
          "text": [
            "Epoch: 12 Train Loss: 0.4381820236293363 Test Loss: 0.41972918974028695\n"
          ]
        },
        {
          "output_type": "stream",
          "name": "stderr",
          "text": [
            "100%|██████████| 71/71 [09:29<00:00,  8.02s/it]\n"
          ]
        },
        {
          "output_type": "stream",
          "name": "stdout",
          "text": [
            "Epoch: 13 Train Loss: 0.44263154813941097 Test Loss: 0.41870779130193925\n"
          ]
        },
        {
          "output_type": "stream",
          "name": "stderr",
          "text": [
            "100%|██████████| 71/71 [09:27<00:00,  8.00s/it]\n"
          ]
        },
        {
          "output_type": "stream",
          "name": "stdout",
          "text": [
            "Epoch: 14 Train Loss: 0.4485346234180558 Test Loss: 0.4190247191323174\n"
          ]
        },
        {
          "output_type": "stream",
          "name": "stderr",
          "text": [
            "100%|██████████| 71/71 [09:28<00:00,  8.01s/it]\n"
          ]
        },
        {
          "output_type": "stream",
          "name": "stdout",
          "text": [
            "Epoch: 15 Train Loss: 0.44652971877178677 Test Loss: 0.4183585974905226\n"
          ]
        },
        {
          "output_type": "stream",
          "name": "stderr",
          "text": [
            "100%|██████████| 71/71 [09:22<00:00,  7.92s/it]\n"
          ]
        },
        {
          "output_type": "stream",
          "name": "stdout",
          "text": [
            "Epoch: 16 Train Loss: 0.436021304046604 Test Loss: 0.419570482439465\n"
          ]
        },
        {
          "output_type": "stream",
          "name": "stderr",
          "text": [
            "100%|██████████| 71/71 [09:21<00:00,  7.91s/it]\n"
          ]
        },
        {
          "output_type": "stream",
          "name": "stdout",
          "text": [
            "Epoch: 17 Train Loss: 0.4459535223497471 Test Loss: 0.4183228545718723\n"
          ]
        },
        {
          "output_type": "stream",
          "name": "stderr",
          "text": [
            "100%|██████████| 71/71 [09:25<00:00,  7.96s/it]\n"
          ]
        },
        {
          "output_type": "stream",
          "name": "stdout",
          "text": [
            "Epoch: 18 Train Loss: 0.4459296532080207 Test Loss: 0.4213876525561015\n"
          ]
        },
        {
          "output_type": "stream",
          "name": "stderr",
          "text": [
            "100%|██████████| 71/71 [09:29<00:00,  8.03s/it]\n"
          ]
        },
        {
          "output_type": "stream",
          "name": "stdout",
          "text": [
            "Epoch: 19 Train Loss: 0.4419975217799066 Test Loss: 0.41862646407551235\n"
          ]
        },
        {
          "output_type": "stream",
          "name": "stderr",
          "text": [
            "100%|██████████| 71/71 [09:28<00:00,  8.01s/it]\n"
          ]
        },
        {
          "output_type": "stream",
          "name": "stdout",
          "text": [
            "Epoch: 20 Train Loss: 0.44539715370661775 Test Loss: 0.41825857758522034\n"
          ]
        }
      ],
      "source": [
        "fit(modelo,train_dataloader,test_dataloader,epochs=20)"
      ]
    },
    {
      "cell_type": "code",
      "execution_count": 24,
      "metadata": {
        "id": "oUi2RoB4tNzM"
      },
      "outputs": [],
      "source": [
        "import torch\n",
        "import torch.nn as nn\n",
        "checkpoint_path = \"/content/drive/MyDrive/2-SIS421/ExamenFinal/checkpoint/modelo_entrenado1.pt\"\n",
        "\n",
        "# Guardar el modelo entrenado\n",
        "torch.save(modelo.state_dict(), checkpoint_path)"
      ]
    },
    {
      "cell_type": "code",
      "execution_count": 25,
      "metadata": {
        "colab": {
          "base_uri": "https://localhost:8080/"
        },
        "id": "gdWM84OutzcS",
        "outputId": "c323d9c0-45c2-4c22-b020-bace386a4740"
      },
      "outputs": [
        {
          "output_type": "execute_result",
          "data": {
            "text/plain": [
              "<All keys matched successfully>"
            ]
          },
          "metadata": {},
          "execution_count": 25
        }
      ],
      "source": [
        "import torch\n",
        "import torch.nn as nn\n",
        "checkpoint_path = \"/content/drive/MyDrive/2-SIS421/ExamenFinal/checkpoint/modelo_entrenado1.pt\"\n",
        "# Cargar el modelo entrenado en el futuro\n",
        "loaded_model = EncoderDecoder()  # Reemplaza \"MyModel\" con la clase de tu modelo\n",
        "loaded_model.load_state_dict(torch.load(checkpoint_path))"
      ]
    },
    {
      "cell_type": "code",
      "execution_count": 26,
      "metadata": {
        "id": "XVJ9Lreodvuy"
      },
      "outputs": [],
      "source": [
        "def predict(model, dataloader, tokenizer,input_ids,attention):\n",
        "    model.eval()\n",
        "    # Desactivar el cálculo de gradientes durante la predicción\n",
        "    with torch.no_grad():\n",
        "\n",
        "            # Generar la entrada para el decodificador\n",
        "            decoder_input_ids = torch.ones_like(input_ids)\n",
        "            decoder_attention_mask = attention\n",
        "\n",
        "            # Pasar los datos al modelo\n",
        "            with torch.no_grad():\n",
        "              decoder_outputs = model(input_ids, attention, decoder_input_ids, decoder_attention_mask)\n",
        "              # Aplicar muestreo multinomial a lm_logits\n",
        "            temperature = 0.3  # Ajusta este valor según tus preferencias\n",
        "            # al elejir una temperatura baja cerca de 0 tenderán a producir predicciones más deterministas y centradas en las opciones más probables,\n",
        "            # mientras que si son mas altos los valores tienden a reproducir predicciones mas variables , resultados mas diversos\n",
        "\n",
        "            # Aplicar muestreo estocástico con temperatura\n",
        "            softmax_logits = torch.softmax(decoder_outputs / temperature, dim=-1)\n",
        "            lm_probs_2d = softmax_logits.view(-1, softmax_logits.size(-1))\n",
        "            sampled_ids = torch.multinomial(lm_probs_2d, num_samples=10)\n",
        "\n",
        "            # Decodificar las predicciones a texto utilizando el tokenizador\n",
        "            decoded_outputs = tokenizer.batch_decode(sampled_ids, skip_special_tokens=True)\n",
        "\n",
        "    return decoded_outputs\n",
        "\n"
      ]
    },
    {
      "cell_type": "code",
      "execution_count": 27,
      "metadata": {
        "id": "7UsuGYev8W6h"
      },
      "outputs": [],
      "source": [
        "# Tokenizar la pregunta y generar la máscara de atención\n",
        "question=\"A 50-year-old male presents with a history of recurrent kidney stones and osteopenia. He has been taking high-dose vitamin D supplements due to a previous diagnosis of vitamin D deficiency. Laboratory results reveal hypercalcemia and hypercalciuria. What is the likely diagnosis, and what is the treatment?\"\n",
        "encoded_inputs = tokenizer(question, return_attention_mask=True,return_tensors=\"pt\")\n",
        "input_ids = encoded_inputs[\"input_ids\"]\n",
        "attention = encoded_inputs[\"attention_mask\"]"
      ]
    },
    {
      "cell_type": "code",
      "execution_count": 29,
      "metadata": {
        "colab": {
          "base_uri": "https://localhost:8080/"
        },
        "id": "jGx5qUE2_y7V",
        "outputId": "90ccdb94-3fb3-4e80-fcdf-9f849c9f4171"
      },
      "outputs": [
        {
          "output_type": "stream",
          "name": "stdout",
          "text": [
            "i that he oh does is my well im wow\n"
          ]
        }
      ],
      "source": [
        "salida = predict(loaded_model,test_dataloader,tokenizer,input_ids,attention)\n",
        "print(salida[0])"
      ]
    },
    {
      "cell_type": "code",
      "execution_count": null,
      "metadata": {
        "id": "YGg_S5VJtaXF"
      },
      "outputs": [],
      "source": [
        "#preguntas para pruebas\n",
        "#A 45-year-old woman with fibromyalgia reports chronic insomnia. What strategies could be suggested to her to improve her sleep quality?,\"Good sleep hygiene is often recommended as a first step in managing chronic insomnia associated with fibromyalgia. This includes maintaining a regular sleep schedule, making the sleep environment comfortable and free from distractions, avoiding caffeine and other stimulants before bed, and establishing a relaxing pre-sleep routine. In some cases, cognitive-behavioral therapy for insomnia may be recommended. If these strategies don't help, a healthcare provider may suggest a trial of medication.\"\n",
        "#A 50-year-old male with Bipolar Disorder complains of dry mouth and constipation. His medications include lithium and olanzapine. What could be causing his symptoms?,\"Both lithium and olanzapine, an atypical antipsychotic, can cause anticholinergic side effects, including dry mouth and constipation. Management includes advising the patient to drink ample fluids, maintain good oral hygiene, and use over-the-counter remedies for dry mouth. For constipation, increased dietary fiber, regular exercise, and potentially the use of laxatives are recommended.\"\n",
        "#\"A 40-year-old man presents with a firm, flesh-colored nodule with a central crater filled with keratin on his shoulder. It has grown slowly over the past few months. What could be the potential diagnosis?\",\"The description of a flesh-colored, keratin-filled nodule suggests a diagnosis of keratoacanthoma. Keratoacanthoma is a low-grade skin tumor that resembles squamous cell carcinoma. While it often regresses spontaneously, it can be difficult to distinguish clinically from more serious skin cancers and therefore should be biopsied to confirm the diagnosis and to guide management.\"\n",
        "#\"A 55-year-old male with a history of chronic obstructive pulmonary disease presents with worsening shortness of breath and a productive cough with green sputum. He also has a low-grade fever and has lost weight unintentionally over the past couple of months. What are the potential causes, and what are the next steps?\",\"While this patient's symptoms could be due to an exacerbation of his chronic obstructive pulmonary disease, the chronic nature of his symptoms, fever, and weight loss also raise concern for tuberculosis. Other differentials could include bronchiectasis, lung abscess, or malignancy. The next steps should include sputum samples for routine culture as well as acid-fast bacilli smear and culture, and a chest X-ray. Depending on the results, further imaging studies or bronchoscopy may be needed.\"\n",
        "#Can diet and lifestyle changes help manage vitiligo?,\"While there is no specific diet or lifestyle modification proven to prevent or cure vitiligo, maintaining a healthy lifestyle is always beneficial for overall health and well-being. Some people with vitiligo have reported that certain foods seem to exacerbate their condition, but this varies widely from person to person. It's also important to protect the skin from sunburn, as areas of vitiligo lack melanin and are more susceptible to sun damage.\"\n",
        "#\"A 50-year-old female presents with right shoulder and arm pain following a traffic accident where she was a passenger. She recalls her head being jolted backward and forward at the moment of the collision. She denies any weakness or numbness. What could be the possible cause, and how would you proceed?\",\"This patient's shoulder and arm pain following a traffic accident where her head was jolted back and forth suggest a whiplash injury. The force exerted during the collision can cause strain to the muscles and ligaments of the neck, which can result in referred pain to the shoulder and arm. The lack of weakness or numbness is a good sign, indicating there may not be any nerve damage. The patient should be evaluated with a detailed physical examination, including a neurological evaluation. Pain management, including analgesics and muscle relaxants, might be needed, and physical therapy can be beneficial for recovery.\"\n",
        "#A 60-year-old female with high cholesterol levels is interested in natural ways to manage her cholesterol. What might be a potential suggestion?,\"In addition to a diet low in saturated fats and regular exercise, turmeric supplementation could be considered. Some studies suggest that curcumin may help lower LDL (\"\"bad\"\") cholesterol and triglycerides, and increase HDL (\"\"good\"\") cholesterol.\"\n",
        "#What are the main subtypes of vitiligo and how do they differ in their presentation?,\"The main subtypes of vitiligo are non-segmental vitiligo and segmental vitiligo. Non-segmental vitiligo, also known as generalized vitiligo, is the most common form and is characterized by depigmented patches that often appear on both sides of the body in a symmetrical pattern. Segmental vitiligo is less common and tends to occur at a younger age. It is characterized by one or a few depigmented patches that usually appear on one side of the body in a dermatomal pattern.\"\n"
      ]
    },
    {
      "cell_type": "code",
      "execution_count": null,
      "metadata": {
        "id": "GyDs48vqh2U0"
      },
      "outputs": [],
      "source": [
        "# Guardar el punto de control al final de cada época\n",
        "#       torch.save({\n",
        "#            'epoch': epoch,\n",
        "#            'model_state_dict': model.state_dict(),\n",
        " #           'optimizer_state_dict': encoder_optimizer.state_dict(),\n",
        "  #          'loss': avg_loss,\n",
        "   #     }, checkpoint_path)"
      ]
    },
    {
      "cell_type": "code",
      "execution_count": null,
      "metadata": {
        "id": "JiuPqqFXkbUT"
      },
      "outputs": [],
      "source": [
        "#checkpoint = torch.load(\"modelo_checkpoint.pt\")\n",
        "#model.load_state_dict(checkpoint['model_state_dict'])\n",
        "#encoder_optimizer.load_state_dict(checkpoint['optimizer_state_dict'])\n",
        "#start_epoch = checkpoint['epoch'] + 1\n"
      ]
    }
  ],
  "metadata": {
    "accelerator": "GPU",
    "colab": {
      "provenance": []
    },
    "kernelspec": {
      "display_name": "Python 3",
      "name": "python3"
    },
    "language_info": {
      "name": "python"
    },
    "widgets": {
      "application/vnd.jupyter.widget-state+json": {
        "291f4fe9e3c84a41bf09f6c3e861790e": {
          "model_module": "@jupyter-widgets/controls",
          "model_name": "HBoxModel",
          "model_module_version": "1.5.0",
          "state": {
            "_dom_classes": [],
            "_model_module": "@jupyter-widgets/controls",
            "_model_module_version": "1.5.0",
            "_model_name": "HBoxModel",
            "_view_count": null,
            "_view_module": "@jupyter-widgets/controls",
            "_view_module_version": "1.5.0",
            "_view_name": "HBoxView",
            "box_style": "",
            "children": [
              "IPY_MODEL_ea7adf55418740acbe263a76de7fa8f1",
              "IPY_MODEL_ff53511ee1f84db6bfcc8c40a3d30218",
              "IPY_MODEL_8fb11597cf824627b2bd4901d37afae1"
            ],
            "layout": "IPY_MODEL_6353df2cf84c4d9a90dc01ea6ba8f3d5"
          }
        },
        "ea7adf55418740acbe263a76de7fa8f1": {
          "model_module": "@jupyter-widgets/controls",
          "model_name": "HTMLModel",
          "model_module_version": "1.5.0",
          "state": {
            "_dom_classes": [],
            "_model_module": "@jupyter-widgets/controls",
            "_model_module_version": "1.5.0",
            "_model_name": "HTMLModel",
            "_view_count": null,
            "_view_module": "@jupyter-widgets/controls",
            "_view_module_version": "1.5.0",
            "_view_name": "HTMLView",
            "description": "",
            "description_tooltip": null,
            "layout": "IPY_MODEL_b776253eb29a4ea38e33e9fea8dedab8",
            "placeholder": "​",
            "style": "IPY_MODEL_34930ff6b3ae4c79b5651cf86de61e8a",
            "value": "vocab.json: 100%"
          }
        },
        "ff53511ee1f84db6bfcc8c40a3d30218": {
          "model_module": "@jupyter-widgets/controls",
          "model_name": "FloatProgressModel",
          "model_module_version": "1.5.0",
          "state": {
            "_dom_classes": [],
            "_model_module": "@jupyter-widgets/controls",
            "_model_module_version": "1.5.0",
            "_model_name": "FloatProgressModel",
            "_view_count": null,
            "_view_module": "@jupyter-widgets/controls",
            "_view_module_version": "1.5.0",
            "_view_name": "ProgressView",
            "bar_style": "success",
            "description": "",
            "description_tooltip": null,
            "layout": "IPY_MODEL_d7f05547eddd429cb44410391e913a61",
            "max": 963536,
            "min": 0,
            "orientation": "horizontal",
            "style": "IPY_MODEL_bdffe923986649319838ad813a83bdfe",
            "value": 963536
          }
        },
        "8fb11597cf824627b2bd4901d37afae1": {
          "model_module": "@jupyter-widgets/controls",
          "model_name": "HTMLModel",
          "model_module_version": "1.5.0",
          "state": {
            "_dom_classes": [],
            "_model_module": "@jupyter-widgets/controls",
            "_model_module_version": "1.5.0",
            "_model_name": "HTMLModel",
            "_view_count": null,
            "_view_module": "@jupyter-widgets/controls",
            "_view_module_version": "1.5.0",
            "_view_name": "HTMLView",
            "description": "",
            "description_tooltip": null,
            "layout": "IPY_MODEL_5cd7b1f625064691adb307393d02c07c",
            "placeholder": "​",
            "style": "IPY_MODEL_063b190be2304367888b86a0d3d8eea4",
            "value": " 964k/964k [00:00&lt;00:00, 4.14MB/s]"
          }
        },
        "6353df2cf84c4d9a90dc01ea6ba8f3d5": {
          "model_module": "@jupyter-widgets/base",
          "model_name": "LayoutModel",
          "model_module_version": "1.2.0",
          "state": {
            "_model_module": "@jupyter-widgets/base",
            "_model_module_version": "1.2.0",
            "_model_name": "LayoutModel",
            "_view_count": null,
            "_view_module": "@jupyter-widgets/base",
            "_view_module_version": "1.2.0",
            "_view_name": "LayoutView",
            "align_content": null,
            "align_items": null,
            "align_self": null,
            "border": null,
            "bottom": null,
            "display": null,
            "flex": null,
            "flex_flow": null,
            "grid_area": null,
            "grid_auto_columns": null,
            "grid_auto_flow": null,
            "grid_auto_rows": null,
            "grid_column": null,
            "grid_gap": null,
            "grid_row": null,
            "grid_template_areas": null,
            "grid_template_columns": null,
            "grid_template_rows": null,
            "height": null,
            "justify_content": null,
            "justify_items": null,
            "left": null,
            "margin": null,
            "max_height": null,
            "max_width": null,
            "min_height": null,
            "min_width": null,
            "object_fit": null,
            "object_position": null,
            "order": null,
            "overflow": null,
            "overflow_x": null,
            "overflow_y": null,
            "padding": null,
            "right": null,
            "top": null,
            "visibility": null,
            "width": null
          }
        },
        "b776253eb29a4ea38e33e9fea8dedab8": {
          "model_module": "@jupyter-widgets/base",
          "model_name": "LayoutModel",
          "model_module_version": "1.2.0",
          "state": {
            "_model_module": "@jupyter-widgets/base",
            "_model_module_version": "1.2.0",
            "_model_name": "LayoutModel",
            "_view_count": null,
            "_view_module": "@jupyter-widgets/base",
            "_view_module_version": "1.2.0",
            "_view_name": "LayoutView",
            "align_content": null,
            "align_items": null,
            "align_self": null,
            "border": null,
            "bottom": null,
            "display": null,
            "flex": null,
            "flex_flow": null,
            "grid_area": null,
            "grid_auto_columns": null,
            "grid_auto_flow": null,
            "grid_auto_rows": null,
            "grid_column": null,
            "grid_gap": null,
            "grid_row": null,
            "grid_template_areas": null,
            "grid_template_columns": null,
            "grid_template_rows": null,
            "height": null,
            "justify_content": null,
            "justify_items": null,
            "left": null,
            "margin": null,
            "max_height": null,
            "max_width": null,
            "min_height": null,
            "min_width": null,
            "object_fit": null,
            "object_position": null,
            "order": null,
            "overflow": null,
            "overflow_x": null,
            "overflow_y": null,
            "padding": null,
            "right": null,
            "top": null,
            "visibility": null,
            "width": null
          }
        },
        "34930ff6b3ae4c79b5651cf86de61e8a": {
          "model_module": "@jupyter-widgets/controls",
          "model_name": "DescriptionStyleModel",
          "model_module_version": "1.5.0",
          "state": {
            "_model_module": "@jupyter-widgets/controls",
            "_model_module_version": "1.5.0",
            "_model_name": "DescriptionStyleModel",
            "_view_count": null,
            "_view_module": "@jupyter-widgets/base",
            "_view_module_version": "1.2.0",
            "_view_name": "StyleView",
            "description_width": ""
          }
        },
        "d7f05547eddd429cb44410391e913a61": {
          "model_module": "@jupyter-widgets/base",
          "model_name": "LayoutModel",
          "model_module_version": "1.2.0",
          "state": {
            "_model_module": "@jupyter-widgets/base",
            "_model_module_version": "1.2.0",
            "_model_name": "LayoutModel",
            "_view_count": null,
            "_view_module": "@jupyter-widgets/base",
            "_view_module_version": "1.2.0",
            "_view_name": "LayoutView",
            "align_content": null,
            "align_items": null,
            "align_self": null,
            "border": null,
            "bottom": null,
            "display": null,
            "flex": null,
            "flex_flow": null,
            "grid_area": null,
            "grid_auto_columns": null,
            "grid_auto_flow": null,
            "grid_auto_rows": null,
            "grid_column": null,
            "grid_gap": null,
            "grid_row": null,
            "grid_template_areas": null,
            "grid_template_columns": null,
            "grid_template_rows": null,
            "height": null,
            "justify_content": null,
            "justify_items": null,
            "left": null,
            "margin": null,
            "max_height": null,
            "max_width": null,
            "min_height": null,
            "min_width": null,
            "object_fit": null,
            "object_position": null,
            "order": null,
            "overflow": null,
            "overflow_x": null,
            "overflow_y": null,
            "padding": null,
            "right": null,
            "top": null,
            "visibility": null,
            "width": null
          }
        },
        "bdffe923986649319838ad813a83bdfe": {
          "model_module": "@jupyter-widgets/controls",
          "model_name": "ProgressStyleModel",
          "model_module_version": "1.5.0",
          "state": {
            "_model_module": "@jupyter-widgets/controls",
            "_model_module_version": "1.5.0",
            "_model_name": "ProgressStyleModel",
            "_view_count": null,
            "_view_module": "@jupyter-widgets/base",
            "_view_module_version": "1.2.0",
            "_view_name": "StyleView",
            "bar_color": null,
            "description_width": ""
          }
        },
        "5cd7b1f625064691adb307393d02c07c": {
          "model_module": "@jupyter-widgets/base",
          "model_name": "LayoutModel",
          "model_module_version": "1.2.0",
          "state": {
            "_model_module": "@jupyter-widgets/base",
            "_model_module_version": "1.2.0",
            "_model_name": "LayoutModel",
            "_view_count": null,
            "_view_module": "@jupyter-widgets/base",
            "_view_module_version": "1.2.0",
            "_view_name": "LayoutView",
            "align_content": null,
            "align_items": null,
            "align_self": null,
            "border": null,
            "bottom": null,
            "display": null,
            "flex": null,
            "flex_flow": null,
            "grid_area": null,
            "grid_auto_columns": null,
            "grid_auto_flow": null,
            "grid_auto_rows": null,
            "grid_column": null,
            "grid_gap": null,
            "grid_row": null,
            "grid_template_areas": null,
            "grid_template_columns": null,
            "grid_template_rows": null,
            "height": null,
            "justify_content": null,
            "justify_items": null,
            "left": null,
            "margin": null,
            "max_height": null,
            "max_width": null,
            "min_height": null,
            "min_width": null,
            "object_fit": null,
            "object_position": null,
            "order": null,
            "overflow": null,
            "overflow_x": null,
            "overflow_y": null,
            "padding": null,
            "right": null,
            "top": null,
            "visibility": null,
            "width": null
          }
        },
        "063b190be2304367888b86a0d3d8eea4": {
          "model_module": "@jupyter-widgets/controls",
          "model_name": "DescriptionStyleModel",
          "model_module_version": "1.5.0",
          "state": {
            "_model_module": "@jupyter-widgets/controls",
            "_model_module_version": "1.5.0",
            "_model_name": "DescriptionStyleModel",
            "_view_count": null,
            "_view_module": "@jupyter-widgets/base",
            "_view_module_version": "1.2.0",
            "_view_name": "StyleView",
            "description_width": ""
          }
        },
        "b514897b8fab4706bf09362cb1ec1dbb": {
          "model_module": "@jupyter-widgets/controls",
          "model_name": "HBoxModel",
          "model_module_version": "1.5.0",
          "state": {
            "_dom_classes": [],
            "_model_module": "@jupyter-widgets/controls",
            "_model_module_version": "1.5.0",
            "_model_name": "HBoxModel",
            "_view_count": null,
            "_view_module": "@jupyter-widgets/controls",
            "_view_module_version": "1.5.0",
            "_view_name": "HBoxView",
            "box_style": "",
            "children": [
              "IPY_MODEL_c324ae75873d43f49bbf89afe3992d37",
              "IPY_MODEL_4abd3a54d85846e083005ee192356349",
              "IPY_MODEL_ed231b0dbe4746679102946ad7ec0ca3"
            ],
            "layout": "IPY_MODEL_03db3a5b53164c6c9a51966d99a31821"
          }
        },
        "c324ae75873d43f49bbf89afe3992d37": {
          "model_module": "@jupyter-widgets/controls",
          "model_name": "HTMLModel",
          "model_module_version": "1.5.0",
          "state": {
            "_dom_classes": [],
            "_model_module": "@jupyter-widgets/controls",
            "_model_module_version": "1.5.0",
            "_model_name": "HTMLModel",
            "_view_count": null,
            "_view_module": "@jupyter-widgets/controls",
            "_view_module_version": "1.5.0",
            "_view_name": "HTMLView",
            "description": "",
            "description_tooltip": null,
            "layout": "IPY_MODEL_f0a32d8ddffe4463a99590e565b9a173",
            "placeholder": "​",
            "style": "IPY_MODEL_2f18454e9b4a4e358d102dfba0e27287",
            "value": "merges.txt: 100%"
          }
        },
        "4abd3a54d85846e083005ee192356349": {
          "model_module": "@jupyter-widgets/controls",
          "model_name": "FloatProgressModel",
          "model_module_version": "1.5.0",
          "state": {
            "_dom_classes": [],
            "_model_module": "@jupyter-widgets/controls",
            "_model_module_version": "1.5.0",
            "_model_name": "FloatProgressModel",
            "_view_count": null,
            "_view_module": "@jupyter-widgets/controls",
            "_view_module_version": "1.5.0",
            "_view_name": "ProgressView",
            "bar_style": "success",
            "description": "",
            "description_tooltip": null,
            "layout": "IPY_MODEL_5ce4a523aa3f4c8fb513da4aa80ab66f",
            "max": 344593,
            "min": 0,
            "orientation": "horizontal",
            "style": "IPY_MODEL_d09f435ffed94eb79daf1606a70a7eb9",
            "value": 344593
          }
        },
        "ed231b0dbe4746679102946ad7ec0ca3": {
          "model_module": "@jupyter-widgets/controls",
          "model_name": "HTMLModel",
          "model_module_version": "1.5.0",
          "state": {
            "_dom_classes": [],
            "_model_module": "@jupyter-widgets/controls",
            "_model_module_version": "1.5.0",
            "_model_name": "HTMLModel",
            "_view_count": null,
            "_view_module": "@jupyter-widgets/controls",
            "_view_module_version": "1.5.0",
            "_view_name": "HTMLView",
            "description": "",
            "description_tooltip": null,
            "layout": "IPY_MODEL_4431972bd32840de9b47aec1b93c9685",
            "placeholder": "​",
            "style": "IPY_MODEL_ca2dd535ffd449af82ef534b89a14052",
            "value": " 345k/345k [00:00&lt;00:00, 20.8MB/s]"
          }
        },
        "03db3a5b53164c6c9a51966d99a31821": {
          "model_module": "@jupyter-widgets/base",
          "model_name": "LayoutModel",
          "model_module_version": "1.2.0",
          "state": {
            "_model_module": "@jupyter-widgets/base",
            "_model_module_version": "1.2.0",
            "_model_name": "LayoutModel",
            "_view_count": null,
            "_view_module": "@jupyter-widgets/base",
            "_view_module_version": "1.2.0",
            "_view_name": "LayoutView",
            "align_content": null,
            "align_items": null,
            "align_self": null,
            "border": null,
            "bottom": null,
            "display": null,
            "flex": null,
            "flex_flow": null,
            "grid_area": null,
            "grid_auto_columns": null,
            "grid_auto_flow": null,
            "grid_auto_rows": null,
            "grid_column": null,
            "grid_gap": null,
            "grid_row": null,
            "grid_template_areas": null,
            "grid_template_columns": null,
            "grid_template_rows": null,
            "height": null,
            "justify_content": null,
            "justify_items": null,
            "left": null,
            "margin": null,
            "max_height": null,
            "max_width": null,
            "min_height": null,
            "min_width": null,
            "object_fit": null,
            "object_position": null,
            "order": null,
            "overflow": null,
            "overflow_x": null,
            "overflow_y": null,
            "padding": null,
            "right": null,
            "top": null,
            "visibility": null,
            "width": null
          }
        },
        "f0a32d8ddffe4463a99590e565b9a173": {
          "model_module": "@jupyter-widgets/base",
          "model_name": "LayoutModel",
          "model_module_version": "1.2.0",
          "state": {
            "_model_module": "@jupyter-widgets/base",
            "_model_module_version": "1.2.0",
            "_model_name": "LayoutModel",
            "_view_count": null,
            "_view_module": "@jupyter-widgets/base",
            "_view_module_version": "1.2.0",
            "_view_name": "LayoutView",
            "align_content": null,
            "align_items": null,
            "align_self": null,
            "border": null,
            "bottom": null,
            "display": null,
            "flex": null,
            "flex_flow": null,
            "grid_area": null,
            "grid_auto_columns": null,
            "grid_auto_flow": null,
            "grid_auto_rows": null,
            "grid_column": null,
            "grid_gap": null,
            "grid_row": null,
            "grid_template_areas": null,
            "grid_template_columns": null,
            "grid_template_rows": null,
            "height": null,
            "justify_content": null,
            "justify_items": null,
            "left": null,
            "margin": null,
            "max_height": null,
            "max_width": null,
            "min_height": null,
            "min_width": null,
            "object_fit": null,
            "object_position": null,
            "order": null,
            "overflow": null,
            "overflow_x": null,
            "overflow_y": null,
            "padding": null,
            "right": null,
            "top": null,
            "visibility": null,
            "width": null
          }
        },
        "2f18454e9b4a4e358d102dfba0e27287": {
          "model_module": "@jupyter-widgets/controls",
          "model_name": "DescriptionStyleModel",
          "model_module_version": "1.5.0",
          "state": {
            "_model_module": "@jupyter-widgets/controls",
            "_model_module_version": "1.5.0",
            "_model_name": "DescriptionStyleModel",
            "_view_count": null,
            "_view_module": "@jupyter-widgets/base",
            "_view_module_version": "1.2.0",
            "_view_name": "StyleView",
            "description_width": ""
          }
        },
        "5ce4a523aa3f4c8fb513da4aa80ab66f": {
          "model_module": "@jupyter-widgets/base",
          "model_name": "LayoutModel",
          "model_module_version": "1.2.0",
          "state": {
            "_model_module": "@jupyter-widgets/base",
            "_model_module_version": "1.2.0",
            "_model_name": "LayoutModel",
            "_view_count": null,
            "_view_module": "@jupyter-widgets/base",
            "_view_module_version": "1.2.0",
            "_view_name": "LayoutView",
            "align_content": null,
            "align_items": null,
            "align_self": null,
            "border": null,
            "bottom": null,
            "display": null,
            "flex": null,
            "flex_flow": null,
            "grid_area": null,
            "grid_auto_columns": null,
            "grid_auto_flow": null,
            "grid_auto_rows": null,
            "grid_column": null,
            "grid_gap": null,
            "grid_row": null,
            "grid_template_areas": null,
            "grid_template_columns": null,
            "grid_template_rows": null,
            "height": null,
            "justify_content": null,
            "justify_items": null,
            "left": null,
            "margin": null,
            "max_height": null,
            "max_width": null,
            "min_height": null,
            "min_width": null,
            "object_fit": null,
            "object_position": null,
            "order": null,
            "overflow": null,
            "overflow_x": null,
            "overflow_y": null,
            "padding": null,
            "right": null,
            "top": null,
            "visibility": null,
            "width": null
          }
        },
        "d09f435ffed94eb79daf1606a70a7eb9": {
          "model_module": "@jupyter-widgets/controls",
          "model_name": "ProgressStyleModel",
          "model_module_version": "1.5.0",
          "state": {
            "_model_module": "@jupyter-widgets/controls",
            "_model_module_version": "1.5.0",
            "_model_name": "ProgressStyleModel",
            "_view_count": null,
            "_view_module": "@jupyter-widgets/base",
            "_view_module_version": "1.2.0",
            "_view_name": "StyleView",
            "bar_color": null,
            "description_width": ""
          }
        },
        "4431972bd32840de9b47aec1b93c9685": {
          "model_module": "@jupyter-widgets/base",
          "model_name": "LayoutModel",
          "model_module_version": "1.2.0",
          "state": {
            "_model_module": "@jupyter-widgets/base",
            "_model_module_version": "1.2.0",
            "_model_name": "LayoutModel",
            "_view_count": null,
            "_view_module": "@jupyter-widgets/base",
            "_view_module_version": "1.2.0",
            "_view_name": "LayoutView",
            "align_content": null,
            "align_items": null,
            "align_self": null,
            "border": null,
            "bottom": null,
            "display": null,
            "flex": null,
            "flex_flow": null,
            "grid_area": null,
            "grid_auto_columns": null,
            "grid_auto_flow": null,
            "grid_auto_rows": null,
            "grid_column": null,
            "grid_gap": null,
            "grid_row": null,
            "grid_template_areas": null,
            "grid_template_columns": null,
            "grid_template_rows": null,
            "height": null,
            "justify_content": null,
            "justify_items": null,
            "left": null,
            "margin": null,
            "max_height": null,
            "max_width": null,
            "min_height": null,
            "min_width": null,
            "object_fit": null,
            "object_position": null,
            "order": null,
            "overflow": null,
            "overflow_x": null,
            "overflow_y": null,
            "padding": null,
            "right": null,
            "top": null,
            "visibility": null,
            "width": null
          }
        },
        "ca2dd535ffd449af82ef534b89a14052": {
          "model_module": "@jupyter-widgets/controls",
          "model_name": "DescriptionStyleModel",
          "model_module_version": "1.5.0",
          "state": {
            "_model_module": "@jupyter-widgets/controls",
            "_model_module_version": "1.5.0",
            "_model_name": "DescriptionStyleModel",
            "_view_count": null,
            "_view_module": "@jupyter-widgets/base",
            "_view_module_version": "1.2.0",
            "_view_name": "StyleView",
            "description_width": ""
          }
        },
        "e50364a87631461d96d9cac1f53f59b2": {
          "model_module": "@jupyter-widgets/controls",
          "model_name": "HBoxModel",
          "model_module_version": "1.5.0",
          "state": {
            "_dom_classes": [],
            "_model_module": "@jupyter-widgets/controls",
            "_model_module_version": "1.5.0",
            "_model_name": "HBoxModel",
            "_view_count": null,
            "_view_module": "@jupyter-widgets/controls",
            "_view_module_version": "1.5.0",
            "_view_name": "HBoxView",
            "box_style": "",
            "children": [
              "IPY_MODEL_acf1bbd04bb7434e82062b3736175259",
              "IPY_MODEL_71d6d178e5b1497f9dd9b9b6e82f1493",
              "IPY_MODEL_41857b3ab8c54f08bb0577b9fed194da"
            ],
            "layout": "IPY_MODEL_db81b7389ad349f7a9eb9a3c1e4d7155"
          }
        },
        "acf1bbd04bb7434e82062b3736175259": {
          "model_module": "@jupyter-widgets/controls",
          "model_name": "HTMLModel",
          "model_module_version": "1.5.0",
          "state": {
            "_dom_classes": [],
            "_model_module": "@jupyter-widgets/controls",
            "_model_module_version": "1.5.0",
            "_model_name": "HTMLModel",
            "_view_count": null,
            "_view_module": "@jupyter-widgets/controls",
            "_view_module_version": "1.5.0",
            "_view_name": "HTMLView",
            "description": "",
            "description_tooltip": null,
            "layout": "IPY_MODEL_296d8867b5344702827adae3f9741067",
            "placeholder": "​",
            "style": "IPY_MODEL_5395893403524b96a4b4a9875b90e0da",
            "value": "config.json: 100%"
          }
        },
        "71d6d178e5b1497f9dd9b9b6e82f1493": {
          "model_module": "@jupyter-widgets/controls",
          "model_name": "FloatProgressModel",
          "model_module_version": "1.5.0",
          "state": {
            "_dom_classes": [],
            "_model_module": "@jupyter-widgets/controls",
            "_model_module_version": "1.5.0",
            "_model_name": "FloatProgressModel",
            "_view_count": null,
            "_view_module": "@jupyter-widgets/controls",
            "_view_module_version": "1.5.0",
            "_view_name": "ProgressView",
            "bar_style": "success",
            "description": "",
            "description_tooltip": null,
            "layout": "IPY_MODEL_99181d32b0584a3b9874da64ce03e210",
            "max": 1453,
            "min": 0,
            "orientation": "horizontal",
            "style": "IPY_MODEL_1dfe78d6ce7d43b292f8b4305023eb58",
            "value": 1453
          }
        },
        "41857b3ab8c54f08bb0577b9fed194da": {
          "model_module": "@jupyter-widgets/controls",
          "model_name": "HTMLModel",
          "model_module_version": "1.5.0",
          "state": {
            "_dom_classes": [],
            "_model_module": "@jupyter-widgets/controls",
            "_model_module_version": "1.5.0",
            "_model_name": "HTMLModel",
            "_view_count": null,
            "_view_module": "@jupyter-widgets/controls",
            "_view_module_version": "1.5.0",
            "_view_name": "HTMLView",
            "description": "",
            "description_tooltip": null,
            "layout": "IPY_MODEL_a9eb82fc157c48b98dfe3f0ad3255a78",
            "placeholder": "​",
            "style": "IPY_MODEL_dd538ac77b374ad9b35976c88e563a06",
            "value": " 1.45k/1.45k [00:00&lt;00:00, 63.7kB/s]"
          }
        },
        "db81b7389ad349f7a9eb9a3c1e4d7155": {
          "model_module": "@jupyter-widgets/base",
          "model_name": "LayoutModel",
          "model_module_version": "1.2.0",
          "state": {
            "_model_module": "@jupyter-widgets/base",
            "_model_module_version": "1.2.0",
            "_model_name": "LayoutModel",
            "_view_count": null,
            "_view_module": "@jupyter-widgets/base",
            "_view_module_version": "1.2.0",
            "_view_name": "LayoutView",
            "align_content": null,
            "align_items": null,
            "align_self": null,
            "border": null,
            "bottom": null,
            "display": null,
            "flex": null,
            "flex_flow": null,
            "grid_area": null,
            "grid_auto_columns": null,
            "grid_auto_flow": null,
            "grid_auto_rows": null,
            "grid_column": null,
            "grid_gap": null,
            "grid_row": null,
            "grid_template_areas": null,
            "grid_template_columns": null,
            "grid_template_rows": null,
            "height": null,
            "justify_content": null,
            "justify_items": null,
            "left": null,
            "margin": null,
            "max_height": null,
            "max_width": null,
            "min_height": null,
            "min_width": null,
            "object_fit": null,
            "object_position": null,
            "order": null,
            "overflow": null,
            "overflow_x": null,
            "overflow_y": null,
            "padding": null,
            "right": null,
            "top": null,
            "visibility": null,
            "width": null
          }
        },
        "296d8867b5344702827adae3f9741067": {
          "model_module": "@jupyter-widgets/base",
          "model_name": "LayoutModel",
          "model_module_version": "1.2.0",
          "state": {
            "_model_module": "@jupyter-widgets/base",
            "_model_module_version": "1.2.0",
            "_model_name": "LayoutModel",
            "_view_count": null,
            "_view_module": "@jupyter-widgets/base",
            "_view_module_version": "1.2.0",
            "_view_name": "LayoutView",
            "align_content": null,
            "align_items": null,
            "align_self": null,
            "border": null,
            "bottom": null,
            "display": null,
            "flex": null,
            "flex_flow": null,
            "grid_area": null,
            "grid_auto_columns": null,
            "grid_auto_flow": null,
            "grid_auto_rows": null,
            "grid_column": null,
            "grid_gap": null,
            "grid_row": null,
            "grid_template_areas": null,
            "grid_template_columns": null,
            "grid_template_rows": null,
            "height": null,
            "justify_content": null,
            "justify_items": null,
            "left": null,
            "margin": null,
            "max_height": null,
            "max_width": null,
            "min_height": null,
            "min_width": null,
            "object_fit": null,
            "object_position": null,
            "order": null,
            "overflow": null,
            "overflow_x": null,
            "overflow_y": null,
            "padding": null,
            "right": null,
            "top": null,
            "visibility": null,
            "width": null
          }
        },
        "5395893403524b96a4b4a9875b90e0da": {
          "model_module": "@jupyter-widgets/controls",
          "model_name": "DescriptionStyleModel",
          "model_module_version": "1.5.0",
          "state": {
            "_model_module": "@jupyter-widgets/controls",
            "_model_module_version": "1.5.0",
            "_model_name": "DescriptionStyleModel",
            "_view_count": null,
            "_view_module": "@jupyter-widgets/base",
            "_view_module_version": "1.2.0",
            "_view_name": "StyleView",
            "description_width": ""
          }
        },
        "99181d32b0584a3b9874da64ce03e210": {
          "model_module": "@jupyter-widgets/base",
          "model_name": "LayoutModel",
          "model_module_version": "1.2.0",
          "state": {
            "_model_module": "@jupyter-widgets/base",
            "_model_module_version": "1.2.0",
            "_model_name": "LayoutModel",
            "_view_count": null,
            "_view_module": "@jupyter-widgets/base",
            "_view_module_version": "1.2.0",
            "_view_name": "LayoutView",
            "align_content": null,
            "align_items": null,
            "align_self": null,
            "border": null,
            "bottom": null,
            "display": null,
            "flex": null,
            "flex_flow": null,
            "grid_area": null,
            "grid_auto_columns": null,
            "grid_auto_flow": null,
            "grid_auto_rows": null,
            "grid_column": null,
            "grid_gap": null,
            "grid_row": null,
            "grid_template_areas": null,
            "grid_template_columns": null,
            "grid_template_rows": null,
            "height": null,
            "justify_content": null,
            "justify_items": null,
            "left": null,
            "margin": null,
            "max_height": null,
            "max_width": null,
            "min_height": null,
            "min_width": null,
            "object_fit": null,
            "object_position": null,
            "order": null,
            "overflow": null,
            "overflow_x": null,
            "overflow_y": null,
            "padding": null,
            "right": null,
            "top": null,
            "visibility": null,
            "width": null
          }
        },
        "1dfe78d6ce7d43b292f8b4305023eb58": {
          "model_module": "@jupyter-widgets/controls",
          "model_name": "ProgressStyleModel",
          "model_module_version": "1.5.0",
          "state": {
            "_model_module": "@jupyter-widgets/controls",
            "_model_module_version": "1.5.0",
            "_model_name": "ProgressStyleModel",
            "_view_count": null,
            "_view_module": "@jupyter-widgets/base",
            "_view_module_version": "1.2.0",
            "_view_name": "StyleView",
            "bar_color": null,
            "description_width": ""
          }
        },
        "a9eb82fc157c48b98dfe3f0ad3255a78": {
          "model_module": "@jupyter-widgets/base",
          "model_name": "LayoutModel",
          "model_module_version": "1.2.0",
          "state": {
            "_model_module": "@jupyter-widgets/base",
            "_model_module_version": "1.2.0",
            "_model_name": "LayoutModel",
            "_view_count": null,
            "_view_module": "@jupyter-widgets/base",
            "_view_module_version": "1.2.0",
            "_view_name": "LayoutView",
            "align_content": null,
            "align_items": null,
            "align_self": null,
            "border": null,
            "bottom": null,
            "display": null,
            "flex": null,
            "flex_flow": null,
            "grid_area": null,
            "grid_auto_columns": null,
            "grid_auto_flow": null,
            "grid_auto_rows": null,
            "grid_column": null,
            "grid_gap": null,
            "grid_row": null,
            "grid_template_areas": null,
            "grid_template_columns": null,
            "grid_template_rows": null,
            "height": null,
            "justify_content": null,
            "justify_items": null,
            "left": null,
            "margin": null,
            "max_height": null,
            "max_width": null,
            "min_height": null,
            "min_width": null,
            "object_fit": null,
            "object_position": null,
            "order": null,
            "overflow": null,
            "overflow_x": null,
            "overflow_y": null,
            "padding": null,
            "right": null,
            "top": null,
            "visibility": null,
            "width": null
          }
        },
        "dd538ac77b374ad9b35976c88e563a06": {
          "model_module": "@jupyter-widgets/controls",
          "model_name": "DescriptionStyleModel",
          "model_module_version": "1.5.0",
          "state": {
            "_model_module": "@jupyter-widgets/controls",
            "_model_module_version": "1.5.0",
            "_model_name": "DescriptionStyleModel",
            "_view_count": null,
            "_view_module": "@jupyter-widgets/base",
            "_view_module_version": "1.2.0",
            "_view_name": "StyleView",
            "description_width": ""
          }
        },
        "1648a37c71b94e9da4dffe98d432a5dd": {
          "model_module": "@jupyter-widgets/controls",
          "model_name": "HBoxModel",
          "model_module_version": "1.5.0",
          "state": {
            "_dom_classes": [],
            "_model_module": "@jupyter-widgets/controls",
            "_model_module_version": "1.5.0",
            "_model_name": "HBoxModel",
            "_view_count": null,
            "_view_module": "@jupyter-widgets/controls",
            "_view_module_version": "1.5.0",
            "_view_name": "HBoxView",
            "box_style": "",
            "children": [
              "IPY_MODEL_84a76c9af6fe4f43ab3586802adcdc72",
              "IPY_MODEL_59bf9d2898e54e22aae942c67241e3af",
              "IPY_MODEL_f61bcb071cc6427b9024474f89f73dc3"
            ],
            "layout": "IPY_MODEL_d8b7fa912583457e96fa50ee0108a5f0"
          }
        },
        "84a76c9af6fe4f43ab3586802adcdc72": {
          "model_module": "@jupyter-widgets/controls",
          "model_name": "HTMLModel",
          "model_module_version": "1.5.0",
          "state": {
            "_dom_classes": [],
            "_model_module": "@jupyter-widgets/controls",
            "_model_module_version": "1.5.0",
            "_model_name": "HTMLModel",
            "_view_count": null,
            "_view_module": "@jupyter-widgets/controls",
            "_view_module_version": "1.5.0",
            "_view_name": "HTMLView",
            "description": "",
            "description_tooltip": null,
            "layout": "IPY_MODEL_ba30d485982a46d2930d80670dfbfc50",
            "placeholder": "​",
            "style": "IPY_MODEL_e268e609cf91451fa25c5005e89be120",
            "value": "pytorch_model.bin: 100%"
          }
        },
        "59bf9d2898e54e22aae942c67241e3af": {
          "model_module": "@jupyter-widgets/controls",
          "model_name": "FloatProgressModel",
          "model_module_version": "1.5.0",
          "state": {
            "_dom_classes": [],
            "_model_module": "@jupyter-widgets/controls",
            "_model_module_version": "1.5.0",
            "_model_name": "FloatProgressModel",
            "_view_count": null,
            "_view_module": "@jupyter-widgets/controls",
            "_view_module_version": "1.5.0",
            "_view_name": "ProgressView",
            "bar_style": "success",
            "description": "",
            "description_tooltip": null,
            "layout": "IPY_MODEL_6acc10e2fcf34766bc88bf4a0af7fe77",
            "max": 350387079,
            "min": 0,
            "orientation": "horizontal",
            "style": "IPY_MODEL_ac20f1475fb24e21bbde679a84afcf6f",
            "value": 350387079
          }
        },
        "f61bcb071cc6427b9024474f89f73dc3": {
          "model_module": "@jupyter-widgets/controls",
          "model_name": "HTMLModel",
          "model_module_version": "1.5.0",
          "state": {
            "_dom_classes": [],
            "_model_module": "@jupyter-widgets/controls",
            "_model_module_version": "1.5.0",
            "_model_name": "HTMLModel",
            "_view_count": null,
            "_view_module": "@jupyter-widgets/controls",
            "_view_module_version": "1.5.0",
            "_view_name": "HTMLView",
            "description": "",
            "description_tooltip": null,
            "layout": "IPY_MODEL_772a23b5d70c488c8a0b49613d9e0944",
            "placeholder": "​",
            "style": "IPY_MODEL_ed4ef43cd13042548b93e1c3b267dccb",
            "value": " 350M/350M [00:04&lt;00:00, 45.0MB/s]"
          }
        },
        "d8b7fa912583457e96fa50ee0108a5f0": {
          "model_module": "@jupyter-widgets/base",
          "model_name": "LayoutModel",
          "model_module_version": "1.2.0",
          "state": {
            "_model_module": "@jupyter-widgets/base",
            "_model_module_version": "1.2.0",
            "_model_name": "LayoutModel",
            "_view_count": null,
            "_view_module": "@jupyter-widgets/base",
            "_view_module_version": "1.2.0",
            "_view_name": "LayoutView",
            "align_content": null,
            "align_items": null,
            "align_self": null,
            "border": null,
            "bottom": null,
            "display": null,
            "flex": null,
            "flex_flow": null,
            "grid_area": null,
            "grid_auto_columns": null,
            "grid_auto_flow": null,
            "grid_auto_rows": null,
            "grid_column": null,
            "grid_gap": null,
            "grid_row": null,
            "grid_template_areas": null,
            "grid_template_columns": null,
            "grid_template_rows": null,
            "height": null,
            "justify_content": null,
            "justify_items": null,
            "left": null,
            "margin": null,
            "max_height": null,
            "max_width": null,
            "min_height": null,
            "min_width": null,
            "object_fit": null,
            "object_position": null,
            "order": null,
            "overflow": null,
            "overflow_x": null,
            "overflow_y": null,
            "padding": null,
            "right": null,
            "top": null,
            "visibility": null,
            "width": null
          }
        },
        "ba30d485982a46d2930d80670dfbfc50": {
          "model_module": "@jupyter-widgets/base",
          "model_name": "LayoutModel",
          "model_module_version": "1.2.0",
          "state": {
            "_model_module": "@jupyter-widgets/base",
            "_model_module_version": "1.2.0",
            "_model_name": "LayoutModel",
            "_view_count": null,
            "_view_module": "@jupyter-widgets/base",
            "_view_module_version": "1.2.0",
            "_view_name": "LayoutView",
            "align_content": null,
            "align_items": null,
            "align_self": null,
            "border": null,
            "bottom": null,
            "display": null,
            "flex": null,
            "flex_flow": null,
            "grid_area": null,
            "grid_auto_columns": null,
            "grid_auto_flow": null,
            "grid_auto_rows": null,
            "grid_column": null,
            "grid_gap": null,
            "grid_row": null,
            "grid_template_areas": null,
            "grid_template_columns": null,
            "grid_template_rows": null,
            "height": null,
            "justify_content": null,
            "justify_items": null,
            "left": null,
            "margin": null,
            "max_height": null,
            "max_width": null,
            "min_height": null,
            "min_width": null,
            "object_fit": null,
            "object_position": null,
            "order": null,
            "overflow": null,
            "overflow_x": null,
            "overflow_y": null,
            "padding": null,
            "right": null,
            "top": null,
            "visibility": null,
            "width": null
          }
        },
        "e268e609cf91451fa25c5005e89be120": {
          "model_module": "@jupyter-widgets/controls",
          "model_name": "DescriptionStyleModel",
          "model_module_version": "1.5.0",
          "state": {
            "_model_module": "@jupyter-widgets/controls",
            "_model_module_version": "1.5.0",
            "_model_name": "DescriptionStyleModel",
            "_view_count": null,
            "_view_module": "@jupyter-widgets/base",
            "_view_module_version": "1.2.0",
            "_view_name": "StyleView",
            "description_width": ""
          }
        },
        "6acc10e2fcf34766bc88bf4a0af7fe77": {
          "model_module": "@jupyter-widgets/base",
          "model_name": "LayoutModel",
          "model_module_version": "1.2.0",
          "state": {
            "_model_module": "@jupyter-widgets/base",
            "_model_module_version": "1.2.0",
            "_model_name": "LayoutModel",
            "_view_count": null,
            "_view_module": "@jupyter-widgets/base",
            "_view_module_version": "1.2.0",
            "_view_name": "LayoutView",
            "align_content": null,
            "align_items": null,
            "align_self": null,
            "border": null,
            "bottom": null,
            "display": null,
            "flex": null,
            "flex_flow": null,
            "grid_area": null,
            "grid_auto_columns": null,
            "grid_auto_flow": null,
            "grid_auto_rows": null,
            "grid_column": null,
            "grid_gap": null,
            "grid_row": null,
            "grid_template_areas": null,
            "grid_template_columns": null,
            "grid_template_rows": null,
            "height": null,
            "justify_content": null,
            "justify_items": null,
            "left": null,
            "margin": null,
            "max_height": null,
            "max_width": null,
            "min_height": null,
            "min_width": null,
            "object_fit": null,
            "object_position": null,
            "order": null,
            "overflow": null,
            "overflow_x": null,
            "overflow_y": null,
            "padding": null,
            "right": null,
            "top": null,
            "visibility": null,
            "width": null
          }
        },
        "ac20f1475fb24e21bbde679a84afcf6f": {
          "model_module": "@jupyter-widgets/controls",
          "model_name": "ProgressStyleModel",
          "model_module_version": "1.5.0",
          "state": {
            "_model_module": "@jupyter-widgets/controls",
            "_model_module_version": "1.5.0",
            "_model_name": "ProgressStyleModel",
            "_view_count": null,
            "_view_module": "@jupyter-widgets/base",
            "_view_module_version": "1.2.0",
            "_view_name": "StyleView",
            "bar_color": null,
            "description_width": ""
          }
        },
        "772a23b5d70c488c8a0b49613d9e0944": {
          "model_module": "@jupyter-widgets/base",
          "model_name": "LayoutModel",
          "model_module_version": "1.2.0",
          "state": {
            "_model_module": "@jupyter-widgets/base",
            "_model_module_version": "1.2.0",
            "_model_name": "LayoutModel",
            "_view_count": null,
            "_view_module": "@jupyter-widgets/base",
            "_view_module_version": "1.2.0",
            "_view_name": "LayoutView",
            "align_content": null,
            "align_items": null,
            "align_self": null,
            "border": null,
            "bottom": null,
            "display": null,
            "flex": null,
            "flex_flow": null,
            "grid_area": null,
            "grid_auto_columns": null,
            "grid_auto_flow": null,
            "grid_auto_rows": null,
            "grid_column": null,
            "grid_gap": null,
            "grid_row": null,
            "grid_template_areas": null,
            "grid_template_columns": null,
            "grid_template_rows": null,
            "height": null,
            "justify_content": null,
            "justify_items": null,
            "left": null,
            "margin": null,
            "max_height": null,
            "max_width": null,
            "min_height": null,
            "min_width": null,
            "object_fit": null,
            "object_position": null,
            "order": null,
            "overflow": null,
            "overflow_x": null,
            "overflow_y": null,
            "padding": null,
            "right": null,
            "top": null,
            "visibility": null,
            "width": null
          }
        },
        "ed4ef43cd13042548b93e1c3b267dccb": {
          "model_module": "@jupyter-widgets/controls",
          "model_name": "DescriptionStyleModel",
          "model_module_version": "1.5.0",
          "state": {
            "_model_module": "@jupyter-widgets/controls",
            "_model_module_version": "1.5.0",
            "_model_name": "DescriptionStyleModel",
            "_view_count": null,
            "_view_module": "@jupyter-widgets/base",
            "_view_module_version": "1.2.0",
            "_view_name": "StyleView",
            "description_width": ""
          }
        },
        "f72a52b0d7f54bd4b03a2bb3b90fab1a": {
          "model_module": "@jupyter-widgets/controls",
          "model_name": "HBoxModel",
          "model_module_version": "1.5.0",
          "state": {
            "_dom_classes": [],
            "_model_module": "@jupyter-widgets/controls",
            "_model_module_version": "1.5.0",
            "_model_name": "HBoxModel",
            "_view_count": null,
            "_view_module": "@jupyter-widgets/controls",
            "_view_module_version": "1.5.0",
            "_view_name": "HBoxView",
            "box_style": "",
            "children": [
              "IPY_MODEL_218abb1632f54a8683618947ee724ad2",
              "IPY_MODEL_937150b04d6e4c11bcafbd3157de72c6",
              "IPY_MODEL_7f982147c52549ed8094d7a6a9818b93"
            ],
            "layout": "IPY_MODEL_27013f0773a9442a8803c5a38527d764"
          }
        },
        "218abb1632f54a8683618947ee724ad2": {
          "model_module": "@jupyter-widgets/controls",
          "model_name": "HTMLModel",
          "model_module_version": "1.5.0",
          "state": {
            "_dom_classes": [],
            "_model_module": "@jupyter-widgets/controls",
            "_model_module_version": "1.5.0",
            "_model_name": "HTMLModel",
            "_view_count": null,
            "_view_module": "@jupyter-widgets/controls",
            "_view_module_version": "1.5.0",
            "_view_name": "HTMLView",
            "description": "",
            "description_tooltip": null,
            "layout": "IPY_MODEL_87cb312c802c49d982d5eea0a74851c6",
            "placeholder": "​",
            "style": "IPY_MODEL_642d40017c404e33a300d2671391a120",
            "value": "generation_config.json: 100%"
          }
        },
        "937150b04d6e4c11bcafbd3157de72c6": {
          "model_module": "@jupyter-widgets/controls",
          "model_name": "FloatProgressModel",
          "model_module_version": "1.5.0",
          "state": {
            "_dom_classes": [],
            "_model_module": "@jupyter-widgets/controls",
            "_model_module_version": "1.5.0",
            "_model_name": "FloatProgressModel",
            "_view_count": null,
            "_view_module": "@jupyter-widgets/controls",
            "_view_module_version": "1.5.0",
            "_view_name": "ProgressView",
            "bar_style": "success",
            "description": "",
            "description_tooltip": null,
            "layout": "IPY_MODEL_c479ca1fad8842ab9952223c27bc4e62",
            "max": 311,
            "min": 0,
            "orientation": "horizontal",
            "style": "IPY_MODEL_90dd23b357f94753b60e3fbe705a2fef",
            "value": 311
          }
        },
        "7f982147c52549ed8094d7a6a9818b93": {
          "model_module": "@jupyter-widgets/controls",
          "model_name": "HTMLModel",
          "model_module_version": "1.5.0",
          "state": {
            "_dom_classes": [],
            "_model_module": "@jupyter-widgets/controls",
            "_model_module_version": "1.5.0",
            "_model_name": "HTMLModel",
            "_view_count": null,
            "_view_module": "@jupyter-widgets/controls",
            "_view_module_version": "1.5.0",
            "_view_name": "HTMLView",
            "description": "",
            "description_tooltip": null,
            "layout": "IPY_MODEL_8cda0633015c4d179f8c79eb2cf960f7",
            "placeholder": "​",
            "style": "IPY_MODEL_42e3df17b6754b59ab8077a577a6ea90",
            "value": " 311/311 [00:00&lt;00:00, 14.5kB/s]"
          }
        },
        "27013f0773a9442a8803c5a38527d764": {
          "model_module": "@jupyter-widgets/base",
          "model_name": "LayoutModel",
          "model_module_version": "1.2.0",
          "state": {
            "_model_module": "@jupyter-widgets/base",
            "_model_module_version": "1.2.0",
            "_model_name": "LayoutModel",
            "_view_count": null,
            "_view_module": "@jupyter-widgets/base",
            "_view_module_version": "1.2.0",
            "_view_name": "LayoutView",
            "align_content": null,
            "align_items": null,
            "align_self": null,
            "border": null,
            "bottom": null,
            "display": null,
            "flex": null,
            "flex_flow": null,
            "grid_area": null,
            "grid_auto_columns": null,
            "grid_auto_flow": null,
            "grid_auto_rows": null,
            "grid_column": null,
            "grid_gap": null,
            "grid_row": null,
            "grid_template_areas": null,
            "grid_template_columns": null,
            "grid_template_rows": null,
            "height": null,
            "justify_content": null,
            "justify_items": null,
            "left": null,
            "margin": null,
            "max_height": null,
            "max_width": null,
            "min_height": null,
            "min_width": null,
            "object_fit": null,
            "object_position": null,
            "order": null,
            "overflow": null,
            "overflow_x": null,
            "overflow_y": null,
            "padding": null,
            "right": null,
            "top": null,
            "visibility": null,
            "width": null
          }
        },
        "87cb312c802c49d982d5eea0a74851c6": {
          "model_module": "@jupyter-widgets/base",
          "model_name": "LayoutModel",
          "model_module_version": "1.2.0",
          "state": {
            "_model_module": "@jupyter-widgets/base",
            "_model_module_version": "1.2.0",
            "_model_name": "LayoutModel",
            "_view_count": null,
            "_view_module": "@jupyter-widgets/base",
            "_view_module_version": "1.2.0",
            "_view_name": "LayoutView",
            "align_content": null,
            "align_items": null,
            "align_self": null,
            "border": null,
            "bottom": null,
            "display": null,
            "flex": null,
            "flex_flow": null,
            "grid_area": null,
            "grid_auto_columns": null,
            "grid_auto_flow": null,
            "grid_auto_rows": null,
            "grid_column": null,
            "grid_gap": null,
            "grid_row": null,
            "grid_template_areas": null,
            "grid_template_columns": null,
            "grid_template_rows": null,
            "height": null,
            "justify_content": null,
            "justify_items": null,
            "left": null,
            "margin": null,
            "max_height": null,
            "max_width": null,
            "min_height": null,
            "min_width": null,
            "object_fit": null,
            "object_position": null,
            "order": null,
            "overflow": null,
            "overflow_x": null,
            "overflow_y": null,
            "padding": null,
            "right": null,
            "top": null,
            "visibility": null,
            "width": null
          }
        },
        "642d40017c404e33a300d2671391a120": {
          "model_module": "@jupyter-widgets/controls",
          "model_name": "DescriptionStyleModel",
          "model_module_version": "1.5.0",
          "state": {
            "_model_module": "@jupyter-widgets/controls",
            "_model_module_version": "1.5.0",
            "_model_name": "DescriptionStyleModel",
            "_view_count": null,
            "_view_module": "@jupyter-widgets/base",
            "_view_module_version": "1.2.0",
            "_view_name": "StyleView",
            "description_width": ""
          }
        },
        "c479ca1fad8842ab9952223c27bc4e62": {
          "model_module": "@jupyter-widgets/base",
          "model_name": "LayoutModel",
          "model_module_version": "1.2.0",
          "state": {
            "_model_module": "@jupyter-widgets/base",
            "_model_module_version": "1.2.0",
            "_model_name": "LayoutModel",
            "_view_count": null,
            "_view_module": "@jupyter-widgets/base",
            "_view_module_version": "1.2.0",
            "_view_name": "LayoutView",
            "align_content": null,
            "align_items": null,
            "align_self": null,
            "border": null,
            "bottom": null,
            "display": null,
            "flex": null,
            "flex_flow": null,
            "grid_area": null,
            "grid_auto_columns": null,
            "grid_auto_flow": null,
            "grid_auto_rows": null,
            "grid_column": null,
            "grid_gap": null,
            "grid_row": null,
            "grid_template_areas": null,
            "grid_template_columns": null,
            "grid_template_rows": null,
            "height": null,
            "justify_content": null,
            "justify_items": null,
            "left": null,
            "margin": null,
            "max_height": null,
            "max_width": null,
            "min_height": null,
            "min_width": null,
            "object_fit": null,
            "object_position": null,
            "order": null,
            "overflow": null,
            "overflow_x": null,
            "overflow_y": null,
            "padding": null,
            "right": null,
            "top": null,
            "visibility": null,
            "width": null
          }
        },
        "90dd23b357f94753b60e3fbe705a2fef": {
          "model_module": "@jupyter-widgets/controls",
          "model_name": "ProgressStyleModel",
          "model_module_version": "1.5.0",
          "state": {
            "_model_module": "@jupyter-widgets/controls",
            "_model_module_version": "1.5.0",
            "_model_name": "ProgressStyleModel",
            "_view_count": null,
            "_view_module": "@jupyter-widgets/base",
            "_view_module_version": "1.2.0",
            "_view_name": "StyleView",
            "bar_color": null,
            "description_width": ""
          }
        },
        "8cda0633015c4d179f8c79eb2cf960f7": {
          "model_module": "@jupyter-widgets/base",
          "model_name": "LayoutModel",
          "model_module_version": "1.2.0",
          "state": {
            "_model_module": "@jupyter-widgets/base",
            "_model_module_version": "1.2.0",
            "_model_name": "LayoutModel",
            "_view_count": null,
            "_view_module": "@jupyter-widgets/base",
            "_view_module_version": "1.2.0",
            "_view_name": "LayoutView",
            "align_content": null,
            "align_items": null,
            "align_self": null,
            "border": null,
            "bottom": null,
            "display": null,
            "flex": null,
            "flex_flow": null,
            "grid_area": null,
            "grid_auto_columns": null,
            "grid_auto_flow": null,
            "grid_auto_rows": null,
            "grid_column": null,
            "grid_gap": null,
            "grid_row": null,
            "grid_template_areas": null,
            "grid_template_columns": null,
            "grid_template_rows": null,
            "height": null,
            "justify_content": null,
            "justify_items": null,
            "left": null,
            "margin": null,
            "max_height": null,
            "max_width": null,
            "min_height": null,
            "min_width": null,
            "object_fit": null,
            "object_position": null,
            "order": null,
            "overflow": null,
            "overflow_x": null,
            "overflow_y": null,
            "padding": null,
            "right": null,
            "top": null,
            "visibility": null,
            "width": null
          }
        },
        "42e3df17b6754b59ab8077a577a6ea90": {
          "model_module": "@jupyter-widgets/controls",
          "model_name": "DescriptionStyleModel",
          "model_module_version": "1.5.0",
          "state": {
            "_model_module": "@jupyter-widgets/controls",
            "_model_module_version": "1.5.0",
            "_model_name": "DescriptionStyleModel",
            "_view_count": null,
            "_view_module": "@jupyter-widgets/base",
            "_view_module_version": "1.2.0",
            "_view_name": "StyleView",
            "description_width": ""
          }
        }
      }
    }
  },
  "nbformat": 4,
  "nbformat_minor": 0
}