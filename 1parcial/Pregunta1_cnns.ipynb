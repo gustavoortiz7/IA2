{
  "nbformat": 4,
  "nbformat_minor": 0,
  "metadata": {
    "accelerator": "GPU",
    "colab": {
      "provenance": [],
      "machine_shape": "hm"
    },
    "kernelspec": {
      "display_name": "Python 3",
      "language": "python",
      "name": "python3"
    },
    "language_info": {
      "codemirror_mode": {
        "name": "ipython",
        "version": 3
      },
      "file_extension": ".py",
      "mimetype": "text/x-python",
      "name": "python",
      "nbconvert_exporter": "python",
      "pygments_lexer": "ipython3",
      "version": "3.8.2"
    },
    "toc": {
      "base_numbering": 1,
      "nav_menu": {},
      "number_sections": true,
      "sideBar": true,
      "skip_h1_title": false,
      "title_cell": "Table of Contents",
      "title_sidebar": "Contents",
      "toc_cell": false,
      "toc_position": {
        "height": "calc(100% - 180px)",
        "left": "10px",
        "top": "150px",
        "width": "233.594px"
      },
      "toc_section_display": true,
      "toc_window_display": false
    }
  },
  "cells": [
    {
      "cell_type": "markdown",
      "metadata": {
        "id": "Yg90deR13qYE"
      },
      "source": [
        "[![Open In Colab](https://colab.research.google.com/assets/colab-badge.svg)](https://colab.research.google.com/github/sensioai/blog/blob/master/042_cnns/cnns.ipynb)"
      ]
    },
    {
      "cell_type": "markdown",
      "metadata": {
        "id": "_4Wq_PsC_CSw"
      },
      "source": [
        "# Redes Neuronales Convolucionales"
      ]
    },
    {
      "cell_type": "markdown",
      "metadata": {
        "id": "jTcoDpKv_CSw"
      },
      "source": [
        "En posts anteriores hemos presentado varias arquitecturas diferentes de `redes neuronales`. Algunos ejemplos son el [`Perceptrón Multicapa`](https://sensioai.com/blog/023_mlp_backprop) o las [`redes neuronales recurrentes`](https://sensioai.com/blog/034_rnn_intro), las cuales hemos aplicado para [predicción de series temporales](https://sensioai.com/blog/035_rnn_forecast) y varias aplicaciones de [lenguaje](https://sensioai.com/blog/038_clasificacion_texto). En este post vamos a presentar una nueva arquitectura de `red neuronal` conocida como `red neuronal convolucional`, especialmente diseñada para trabajar con imágenes."
      ]
    },
    {
      "cell_type": "markdown",
      "metadata": {
        "id": "Ae2NBiSW_CSx"
      },
      "source": [
        "## Introducción"
      ]
    },
    {
      "cell_type": "markdown",
      "metadata": {
        "id": "fRs_cPDe_CSx"
      },
      "source": [
        "Las `redes neuronales convolucionales` (CNNs) surgieron del estudio del córtex visual del cerebro y se han utilizado en el reconocimiento de imágenes desde la década de los 80. En los últimos años, gracias al aumento de la potencia computacional, la cantidad de datos de entrenamiento disponibles y los trucos ya explicados anteriormente para entrenar redes profundas, las CNNs han logrado lograr un rendimiento sobrehumano en algunas tareas visuales complejas. Este tipo de red se puede encontrar en servicios de búsqueda de imágenes, coches autónomos, sistemas de clasificación de vídeo automático y muchas otras aplicaciones. Además, las CNNs no se limitan a la percepción visual, también tienen éxito en tareas como el reconocimiento de voz y el procesamiento de datos tridimensionales."
      ]
    },
    {
      "cell_type": "markdown",
      "metadata": {
        "id": "_1Mcsc8h_CSy"
      },
      "source": [
        "### El córtex visual"
      ]
    },
    {
      "cell_type": "markdown",
      "metadata": {
        "id": "H5SGe6eq_CSy"
      },
      "source": [
        "Las neuronas del córtex visual tienen un pequeño *campo receptivo local*, lo que significa que reaccionan solo a los estímulos visuales ubicados en una región limitada del campo visual. Los campos receptivos de diferentes neuronas pueden superponerse y juntos forman el campo visual completo.\n",
        "\n",
        "![](https://mymlpics.s3.eu-de.cloud-object-storage.appdomain.cloud/visual_cortex.png)\n",
        "\n",
        "Las neuronas de las primeras capas del córtex visual reaccionan solo ante ciertos patrones simples, como por ejemplo líneas horizontales mientras que otras reaccionan a líneas verticales (dos neuronas pueden tener el mismo campo receptivo pero reaccionan a diferentes orientaciones de línea). En las capas siguientes, las neuronas tienen campos receptivos más grandes y reaccionan a patrones más complejos, que pueden ser combinaciones de patrones de nivel inferior, construyendo de esta manera una jerarquía en diferentes capas que resultan finalmente en las formas y colores que vemos.\n",
        "\n",
        "Basándose en estos conceptos, Yann LeCunn introdujo las CNNs en 1998 en la famosa arquitectura [LeNet-5](https://colab.research.google.com/drive/1fqxaTs-Ux9KQHyCJsToFTZwSNoHv9rKe#scrollTo=CMK6qB1EdfqC), utilizada por los bancos para reconocer de manera automática los números manuscritos en cheques para un procesamiento más rápido."
      ]
    },
    {
      "cell_type": "markdown",
      "metadata": {
        "id": "3KcYa4Uh_CSz"
      },
      "source": [
        "## La Capa Convolucional"
      ]
    },
    {
      "cell_type": "markdown",
      "metadata": {
        "id": "HwAcny-K_CS0"
      },
      "source": [
        "Como veremos más adelante, las `redes convolucionales` están formadas por varias capas con diferente responsabilidad. De entre estas capas, la más importante es la `capa convolucional` la cual es responsable de identificar y construir las diferentes formas, colores y texturas de manera similar al córtex visual. Para llevar a cabo esta tarea usaremos un conjunto de *filtros* (también llamados *kernels*) los cuales deslizaremos por toda la imagen aplicando la operación *convolución*. Esta operación consiste en aplicar el producto escalar entre el filtro y los píxeles de la imagen cubiertos por el filtro, lo que se conoce como el *campo receptivo* (o *receptive field*). En el siguiente gif puedes ver esta operación en acción, en la que tenemos un filtro de 3x3 el cual deslizamos por nuestra imagen, la cual tiene una resolución de 5x5. Para cada posible posición del filtro dentro de la imagen, calculamos el producto de cada pixel por el valor del filtro correspondiente y guardamos el resultado en el mapa de salida.\n",
        "\n",
        "![](https://miro.medium.com/max/1052/1*GcI7G-JLAQiEoCON7xFbhg.gif)\n",
        "\n",
        "En este segundo ejemplo estamos aplicando la misma operación, pero ahora en el caso de que nuestra imagen tenga 3 canales (una imagen en color RGB). En este caso, nuestros filtros también tienen 3 canales. Además estamos aplicando más de un filtro, lo cual resulta en número de canales en el mapa de salida igual al número de filtros utilizados.\n",
        "\n",
        "![](https://cdn-media-1.freecodecamp.org/images/gb08-2i83P5wPzs3SL-vosNb6Iur5kb5ZH43)\n",
        "\n",
        "Vamos a ver un ejemplo de aplicación con imágenes reales, en este caso con imágenes del dataset CIFAR10 con el cual ya hemos trabajado anteriormente."
      ]
    },
    {
      "cell_type": "code",
      "metadata": {
        "ExecuteTime": {
          "end_time": "2020-09-11T10:09:11.689701Z",
          "start_time": "2020-09-11T10:09:10.527700Z"
        },
        "id": "Cp_-oSrJ_CS1"
      },
      "source": [
        "import torch\n",
        "import torchvision\n",
        "\n",
        "device = \"cuda\" if torch.cuda.is_available() else \"cpu\""
      ],
      "execution_count": 1,
      "outputs": []
    },
    {
      "cell_type": "code",
      "source": [
        "device"
      ],
      "metadata": {
        "colab": {
          "base_uri": "https://localhost:8080/",
          "height": 36
        },
        "id": "bXb2y23jRzQT",
        "outputId": "5e6615e7-11e5-4d00-a5e8-6bdff2ff9a85"
      },
      "execution_count": 2,
      "outputs": [
        {
          "output_type": "execute_result",
          "data": {
            "text/plain": [
              "'cuda'"
            ],
            "application/vnd.google.colaboratory.intrinsic+json": {
              "type": "string"
            }
          },
          "metadata": {},
          "execution_count": 2
        }
      ]
    },
    {
      "cell_type": "code",
      "source": [
        "import torch.optim as optim\n",
        "import torchvision.transforms as transforms\n",
        "transform = transforms.Compose(\n",
        "    [transforms.Resize((64, 64))])"
      ],
      "metadata": {
        "id": "pxCy937zNH53"
      },
      "execution_count": 3,
      "outputs": []
    },
    {
      "cell_type": "code",
      "metadata": {
        "ExecuteTime": {
          "end_time": "2020-09-11T10:09:26.674543Z",
          "start_time": "2020-09-11T10:09:16.775743Z"
        },
        "id": "qu7vLg85_CS2",
        "colab": {
          "base_uri": "https://localhost:8080/"
        },
        "outputId": "9b6c31de-088f-4880-e14c-9582b76a5ed3"
      },
      "source": [
        "trainset = torchvision.datasets.CIFAR10(root='./data', train=True, download=True,transform=transform)\n",
        "\n",
        "testset = torchvision.datasets.CIFAR10(root='./data', train=False, download=True,transform=transform)\n",
        "\n",
        "classes = ('plane', 'car', 'bird', 'cat',\n",
        "           'deer', 'dog', 'frog', 'horse', 'ship', 'truck')"
      ],
      "execution_count": 4,
      "outputs": [
        {
          "output_type": "stream",
          "name": "stdout",
          "text": [
            "Downloading https://www.cs.toronto.edu/~kriz/cifar-10-python.tar.gz to ./data/cifar-10-python.tar.gz\n"
          ]
        },
        {
          "output_type": "stream",
          "name": "stderr",
          "text": [
            "100%|██████████| 170498071/170498071 [00:01<00:00, 102013366.94it/s]\n"
          ]
        },
        {
          "output_type": "stream",
          "name": "stdout",
          "text": [
            "Extracting ./data/cifar-10-python.tar.gz to ./data\n",
            "Files already downloaded and verified\n"
          ]
        }
      ]
    },
    {
      "cell_type": "code",
      "source": [
        "print(trainset[110][0])"
      ],
      "metadata": {
        "colab": {
          "base_uri": "https://localhost:8080/"
        },
        "id": "q1SekSH4SWS1",
        "outputId": "2e479f4f-6ad2-4953-f399-ce489ccf3119"
      },
      "execution_count": 5,
      "outputs": [
        {
          "output_type": "stream",
          "name": "stdout",
          "text": [
            "<PIL.Image.Image image mode=RGB size=64x64 at 0x7D9F370DFA30>\n"
          ]
        }
      ]
    },
    {
      "cell_type": "code",
      "metadata": {
        "ExecuteTime": {
          "end_time": "2020-09-11T10:09:36.429160Z",
          "start_time": "2020-09-11T10:09:32.689230Z"
        },
        "id": "tr1QDpw7_CS3",
        "colab": {
          "base_uri": "https://localhost:8080/"
        },
        "outputId": "f197d8af-f09a-4833-fecc-d084df1b1bba"
      },
      "source": [
        "import numpy as np\n",
        "\n",
        "train_imgs, train_labels = np.array([np.array(i[0]) for i in trainset]), np.array([i[1] for i in trainset])\n",
        "test_imgs, test_labels = np.array([np.array(i[0]) for i in testset]), np.array([i[1] for i in testset])\n",
        "\n",
        "train_imgs.shape, test_imgs.shape"
      ],
      "execution_count": 6,
      "outputs": [
        {
          "output_type": "execute_result",
          "data": {
            "text/plain": [
              "((50000, 64, 64, 3), (10000, 64, 64, 3))"
            ]
          },
          "metadata": {},
          "execution_count": 6
        }
      ]
    },
    {
      "cell_type": "markdown",
      "metadata": {
        "id": "IGXWDgBl_CS4"
      },
      "source": [
        "Una vez convertidas todas las imágenes a arrays de `Numpy`, vamos a visualizar un ejemplo aleatorio."
      ]
    },
    {
      "cell_type": "code",
      "metadata": {
        "ExecuteTime": {
          "end_time": "2020-09-11T10:10:08.522205Z",
          "start_time": "2020-09-11T10:10:08.161034Z"
        },
        "id": "JZDnEQE8_CS4",
        "colab": {
          "base_uri": "https://localhost:8080/",
          "height": 452
        },
        "outputId": "a275f55b-de6f-4f9f-8744-505c30782e5d"
      },
      "source": [
        "import random\n",
        "import matplotlib.pyplot as plt\n",
        "\n",
        "ix = random.randint(0, len(train_imgs))\n",
        "img, label = train_imgs[ix], train_labels[ix]\n",
        "#print(img)\n",
        "\n",
        "plt.imshow(img)\n",
        "plt.title(classes[label])\n",
        "plt.show()"
      ],
      "execution_count": 7,
      "outputs": [
        {
          "output_type": "display_data",
          "data": {
            "text/plain": [
              "<Figure size 640x480 with 1 Axes>"
            ],
            "image/png": "[encoded data removed]"
          },
          "metadata": {}
        }
      ]
    },
    {
      "cell_type": "markdown",
      "metadata": {
        "id": "vDfbEtX4_CS4"
      },
      "source": [
        "Ahora, vamos a aplicar un filtro definido manualmente a esta imagen. En este caso aplicaremos un filtro de 3x3 con valores de 1 en la primera fila, 0 en la central y -1 en la última. Como puedes ver en el resultado, este filtro es útil para identificar líneas horizontales."
      ]
    },
    {
      "cell_type": "code",
      "metadata": {
        "ExecuteTime": {
          "end_time": "2020-09-11T10:11:30.421738Z",
          "start_time": "2020-09-11T10:11:30.215641Z"
        },
        "id": "aatX2fF8_CS5",
        "colab": {
          "base_uri": "https://localhost:8080/",
          "height": 415
        },
        "outputId": "85f993e1-77c3-439d-fa99-4935e3f19957"
      },
      "source": [
        "import numpy as np\n",
        "import scipy.signal\n",
        "from skimage import color\n",
        "from skimage import exposure\n",
        "\n",
        "img = color.rgb2gray(img)\n",
        "\n",
        "kernel = np.array([[1,1,1],\n",
        "                   [0,0,0],\n",
        "                   [-1,-1,-1]])\n",
        "\n",
        "edges = scipy.signal.convolve2d(img, kernel, 'valid')\n",
        "edges = exposure.equalize_adapthist(edges/np.max(np.abs(edges)), clip_limit=0.03)\n",
        "\n",
        "fig, (ax1, ax2) = plt.subplots(1, 2, figsize=(10,5))\n",
        "ax1.imshow(img, cmap=plt.cm.gray)\n",
        "ax2.imshow(edges, cmap=plt.cm.gray)\n",
        "plt.show()"
      ],
      "execution_count": 8,
      "outputs": [
        {
          "output_type": "display_data",
          "data": {
            "text/plain": [
              "<Figure size 1000x500 with 2 Axes>"
            ],
            "image/png": "[encoded data removed]"
          },
          "metadata": {}
        }
      ]
    },
    {
      "cell_type": "markdown",
      "metadata": {
        "id": "X8QGUy5b_CS5"
      },
      "source": [
        "Si aplicamos ahora el mismo filtro, pero transpuesto, obtenemos un detector de líneas verticales."
      ]
    },
    {
      "cell_type": "code",
      "metadata": {
        "ExecuteTime": {
          "end_time": "2020-09-11T10:12:01.970740Z",
          "start_time": "2020-09-11T10:12:01.770223Z"
        },
        "id": "01m1vNBS_CS5",
        "colab": {
          "base_uri": "https://localhost:8080/",
          "height": 415
        },
        "outputId": "7cf5193d-3a6f-4fb4-cb4d-18e00edd94e6"
      },
      "source": [
        "kernel = np.array([[1, 0, -1],\n",
        "                   [1, 0, -1],\n",
        "                   [1, 0, -1]])\n",
        "\n",
        "edges = scipy.signal.convolve2d(img, kernel, 'valid')\n",
        "edges = exposure.equalize_adapthist(edges/np.max(np.abs(edges)), clip_limit=0.03)\n",
        "\n",
        "fig, (ax1, ax2) = plt.subplots(1, 2, figsize=(10,5))\n",
        "ax1.imshow(img, cmap=plt.cm.gray)\n",
        "ax2.imshow(edges, cmap=plt.cm.gray)\n",
        "plt.show()"
      ],
      "execution_count": 9,
      "outputs": [
        {
          "output_type": "display_data",
          "data": {
            "text/plain": [
              "<Figure size 1000x500 with 2 Axes>"
            ],
            "image/png": "[encoded data removed]"
          },
          "metadata": {}
        }
      ]
    },
    {
      "cell_type": "markdown",
      "metadata": {
        "id": "oeNRjtNz_CS6"
      },
      "source": [
        "De la misma manera, el siguiente filtro será útil para detectar bordes en cualquier orientación."
      ]
    },
    {
      "cell_type": "code",
      "metadata": {
        "ExecuteTime": {
          "end_time": "2020-09-11T10:12:43.521901Z",
          "start_time": "2020-09-11T10:12:43.332821Z"
        },
        "id": "EgFu1U6N_CS6",
        "colab": {
          "base_uri": "https://localhost:8080/",
          "height": 415
        },
        "outputId": "2a8f05bc-26e2-44eb-ef9b-9e233482ab03"
      },
      "source": [
        "kernel = np.array([[0,-1,0],\n",
        "                   [-1,4,-1],\n",
        "                   [0,-1,0]])\n",
        "\n",
        "edges = scipy.signal.convolve2d(img, kernel, 'valid')\n",
        "edges = exposure.equalize_adapthist(edges/np.max(np.abs(edges)), clip_limit=0.03)\n",
        "\n",
        "fig, (ax1, ax2) = plt.subplots(1, 2, figsize=(10,5))\n",
        "ax1.imshow(img, cmap=plt.cm.gray)\n",
        "ax2.imshow(edges, cmap=plt.cm.gray)\n",
        "plt.show()"
      ],
      "execution_count": 10,
      "outputs": [
        {
          "output_type": "display_data",
          "data": {
            "text/plain": [
              "<Figure size 1000x500 with 2 Axes>"
            ],
            "image/png": "[encoded data removed]"
          },
          "metadata": {}
        }
      ]
    },
    {
      "cell_type": "markdown",
      "metadata": {
        "id": "uWRWUYmB_CS6"
      },
      "source": [
        "Como puedes ver, al aplicar varios filtros a nuestra imagen podemos obtener información relevante a la hora de llevar a cabo tareas tales como la clasificación de la imagen, detectar varios objetos en ella o generar una descripción textual de la misma. La pregunta ahora es: ¿Y cómo decidimos que filtros utilizar? La respuesta es fácil, dejaremos que sea la propia red neuronal quién aprenda estos valores a través del proceso de entrenamiento de manera que sea ella misma quien decida qué patrones son los más importantes a la hora de llevar a cabo su tarea. Así pues, los filtros serán ahora los parámetros de nuestra red."
      ]
    },
    {
      "cell_type": "markdown",
      "metadata": {
        "id": "HtSzuH8__CS6"
      },
      "source": [
        "### Implementación en Pytorch"
      ]
    },
    {
      "cell_type": "markdown",
      "metadata": {
        "id": "NYp737D2_CS7"
      },
      "source": [
        "En `Pytorch` tenemos implementada la capa convolucional en el clase `torch.nn.Conv2D`. A esta capa le pasamos como parámetros el número de canales de la imagen a la entrada, el número de filtros, el tamaño del filtro y otros parámetros relevantes de los que hablaremos más adelante. Si miras en la [documentación](https://pytorch.org/docs/stable/generated/torch.nn.Conv2d.html), esta capa espera un tensor a la entrada con dimensiones $(N,C_{in},H,W)$, dónde $N$ es el tamaño del *batch*, $C_{in}$ es el número de canales del mapa de entrada, $H$ es el alto y $W$ el ancho del mapa."
      ]
    },
    {
      "cell_type": "code",
      "metadata": {
        "ExecuteTime": {
          "end_time": "2020-09-11T10:16:47.324342Z",
          "start_time": "2020-09-11T10:16:47.218303Z"
        },
        "id": "3glsVNsk_CS7",
        "colab": {
          "base_uri": "https://localhost:8080/",
          "height": 452
        },
        "outputId": "6144e083-ab0b-4c2e-9953-eb6da5bce8d0"
      },
      "source": [
        "ix = random.randint(0, len(train_imgs))\n",
        "img, label = train_imgs[ix], train_labels[ix]\n",
        "\n",
        "plt.imshow(img)\n",
        "plt.title(classes[label])\n",
        "plt.show()"
      ],
      "execution_count": 11,
      "outputs": [
        {
          "output_type": "display_data",
          "data": {
            "text/plain": [
              "<Figure size 640x480 with 1 Axes>"
            ],
            "image/png": "[encoded data removed]"
          },
          "metadata": {}
        }
      ]
    },
    {
      "cell_type": "code",
      "metadata": {
        "ExecuteTime": {
          "end_time": "2020-09-11T10:21:46.977196Z",
          "start_time": "2020-09-11T10:21:46.973198Z"
        },
        "id": "PpCr4ucN_CS7",
        "colab": {
          "base_uri": "https://localhost:8080/"
        },
        "outputId": "3491fbe8-5338-4d55-a88a-4b27bf66e1a8"
      },
      "source": [
        "# convertir la imágen en tensor con dimensiones (N, C_in, H, W)\n",
        "\n",
        "img_tensor = torch.from_numpy(img / 255.).unsqueeze(0)\n",
        "img_tensor = img_tensor.permute(0, 3, 1, 2).float()\n",
        "\n",
        "img_tensor.shape, img_tensor.dtype"
      ],
      "execution_count": 12,
      "outputs": [
        {
          "output_type": "execute_result",
          "data": {
            "text/plain": [
              "(torch.Size([1, 3, 64, 64]), torch.float32)"
            ]
          },
          "metadata": {},
          "execution_count": 12
        }
      ]
    },
    {
      "cell_type": "code",
      "metadata": {
        "ExecuteTime": {
          "end_time": "2020-09-11T10:22:21.819195Z",
          "start_time": "2020-09-11T10:22:21.813197Z"
        },
        "id": "C-9qecdM_CS7",
        "colab": {
          "base_uri": "https://localhost:8080/"
        },
        "outputId": "878e9d0b-8595-4c62-f845-898c46ee9047"
      },
      "source": [
        "# aplicamos 10 filtros de tamaño 3x3\n",
        "\n",
        "conv = torch.nn.Conv2d(in_channels = 3, out_channels = 10, kernel_size = 3)\n",
        "\n",
        "output = conv(img_tensor)\n",
        "\n",
        "# dimensiones: (N, #filtros, H', W')\n",
        "output.shape"
      ],
      "execution_count": 13,
      "outputs": [
        {
          "output_type": "execute_result",
          "data": {
            "text/plain": [
              "torch.Size([1, 10, 62, 62])"
            ]
          },
          "metadata": {},
          "execution_count": 13
        }
      ]
    },
    {
      "cell_type": "markdown",
      "metadata": {
        "id": "gGclCKWe_CS8"
      },
      "source": [
        "Como puedes ver las dimensiones del tensor de salida son diferentes al tensor de entrada. En primer lugar, el número de canales del mapa de entrada ahora es el número de filtros aplicados (el resultado de aplicar cada filtro se guarda en un canal). En cuanto al ancho y alto, dependerá de la relación entre el tamaño de la imagen y el del filtro. Puedes calcular estas dimensiones de la siguiente manera\n",
        "\n",
        "$$ o = \\lfloor \\frac{n+2p-m}{s} \\rfloor + 1 $$\n",
        "\n",
        "donde $o$ es la dimensión de salida, $n$ la de entrada, $m$ es el tamaño del filtro y $p$ y $s$ son dos parámetros con los que podemos jugar para ajustar el tamaño de salida. $p$ es el *padding* y consiste en el número de valores extra que añadimos en los bordes para aumentar el tamaño de la entrada. $s$ es el *stride*, y controla el número de pixeles que el filtro salta en cada paso. $\\lfloor \\cdot \\rfloor$ es el operador *floor*, que redondea cualquier resultado a la baja.\n",
        "\n",
        "Usar $p = 1$ y $s = 1$ con un filtro de 3x3 no cambiará el tamaño de la imagen."
      ]
    },
    {
      "cell_type": "code",
      "metadata": {
        "ExecuteTime": {
          "end_time": "2020-09-11T10:28:30.014445Z",
          "start_time": "2020-09-11T10:28:30.007445Z"
        },
        "id": "LSm2NY3X_CS8",
        "colab": {
          "base_uri": "https://localhost:8080/"
        },
        "outputId": "2be9bdb1-e04e-4e3a-d760-a88a07d4dc7a"
      },
      "source": [
        "conv = torch.nn.Conv2d(in_channels = 3, out_channels = 10, kernel_size = 5, padding = 0, stride = 2)\n",
        "\n",
        "output = conv(img_tensor)\n",
        "\n",
        "# dimensiones: (N, #filtros, H', W')\n",
        "output.shape"
      ],
      "execution_count": 14,
      "outputs": [
        {
          "output_type": "execute_result",
          "data": {
            "text/plain": [
              "torch.Size([1, 10, 30, 30])"
            ]
          },
          "metadata": {},
          "execution_count": 14
        }
      ]
    },
    {
      "cell_type": "code",
      "source": [
        "img_tensor.shape"
      ],
      "metadata": {
        "colab": {
          "base_uri": "https://localhost:8080/"
        },
        "id": "AtaWk3LIKxAK",
        "outputId": "5786b4ee-b8d1-4ab7-d117-08e75331ac03"
      },
      "execution_count": 15,
      "outputs": [
        {
          "output_type": "execute_result",
          "data": {
            "text/plain": [
              "torch.Size([1, 3, 64, 64])"
            ]
          },
          "metadata": {},
          "execution_count": 15
        }
      ]
    },
    {
      "cell_type": "markdown",
      "metadata": {
        "id": "-KOw7S70_CS8"
      },
      "source": [
        "Aplicar un salto de 2 pixeles en la aplicación del filtro, $s = 2$, reducirá el tamaño a la mitad."
      ]
    },
    {
      "cell_type": "code",
      "metadata": {
        "ExecuteTime": {
          "end_time": "2020-09-11T10:29:03.962582Z",
          "start_time": "2020-09-11T10:29:03.956582Z"
        },
        "id": "OWzpSy6k_CS8",
        "colab": {
          "base_uri": "https://localhost:8080/"
        },
        "outputId": "71193c40-42e8-4d0f-e15d-e2db39f27520"
      },
      "source": [
        "\n",
        "conv = torch.nn.Conv2d(in_channels = 3, out_channels = 10, kernel_size = 5, padding = 1, stride = 2)\n",
        "\n",
        "output = conv(img_tensor)\n",
        "\n",
        "# dimensiones: (N, #filtros, H', W')\n",
        "output.shape"
      ],
      "execution_count": 16,
      "outputs": [
        {
          "output_type": "execute_result",
          "data": {
            "text/plain": [
              "torch.Size([1, 10, 31, 31])"
            ]
          },
          "metadata": {},
          "execution_count": 16
        }
      ]
    },
    {
      "cell_type": "code",
      "source": [
        "conv1 = torch.nn.Conv2d(in_channels = 10, out_channels = 64, kernel_size = 3, padding = 0, stride = 1)\n",
        "\n",
        "output2 = conv1(output)\n",
        "\n",
        "# dimensiones: (N, #filtros, H', W')\n",
        "output2.shape"
      ],
      "metadata": {
        "colab": {
          "base_uri": "https://localhost:8080/"
        },
        "id": "Bd4Rso4Ea5ym",
        "outputId": "e4c5fe4a-3b28-4d4d-8c4f-e44064754f33"
      },
      "execution_count": 17,
      "outputs": [
        {
          "output_type": "execute_result",
          "data": {
            "text/plain": [
              "torch.Size([1, 64, 29, 29])"
            ]
          },
          "metadata": {},
          "execution_count": 17
        }
      ]
    },
    {
      "cell_type": "markdown",
      "metadata": {
        "id": "EuORYwBk_CS9"
      },
      "source": [
        "En una `red convolucional` tendremos varias de estas `capas convolucionales` en diferentes capas consecutivas, de manera que las entradas a unas capas serán las salidas de las anteriores. De esta manera, la red será capaz de construir patrones cada vez más elaborados a partir de patrones más sencillos. Puedes ver una animación del funcionamiento de esta capa en el siguiente [vídeo](https://www.youtube.com/watch?v=f0t-OCG79-U). También, en el siguiente gif, puedes ver un ejemplo de aplicación.\n",
        "\n",
        "![](https://thumbs.gfycat.com/AffectionateMemorableGreyhounddog-size_restricted.gif)\n"
      ]
    },
    {
      "cell_type": "markdown",
      "metadata": {
        "id": "Uj5E_tS9_CS9"
      },
      "source": [
        "## Capas de *Pooling*"
      ]
    },
    {
      "cell_type": "markdown",
      "metadata": {
        "id": "3xVBhRH6_CS9"
      },
      "source": [
        "Si bien hemos visto que jugando con los tamaños del filtro, *stride* y *padding* podemos controlar el tamaño de los mapas generados por las capas convolucionales, es también común el uso de capas *pooling* para reducir los mapas de características.\n",
        "\n",
        "![](https://miro.medium.com/max/1456/1*WvHC5bKyrHa7Wm3ca-pXtg.gif)\n",
        "\n",
        "Estas capas también aplican un filtro sobre su entrada, pero en este caso es un solo filtro que además no tiene parámetros sino que aplica una función predeterminada en su campo receptivo (mínimo, máximo, promedio, etc). La idea detrás del uso de este tipo de capas es la de reducir la resolución de los mapas de características, reduciendo así el coste computacional para entrenar la `red neuronal`, pero manteniendo las características importantes para el reconocimiento de patrones."
      ]
    },
    {
      "cell_type": "code",
      "metadata": {
        "ExecuteTime": {
          "end_time": "2020-09-11T10:36:02.735039Z",
          "start_time": "2020-09-11T10:36:02.631352Z"
        },
        "id": "-r68bkX__CS9",
        "colab": {
          "base_uri": "https://localhost:8080/",
          "height": 452
        },
        "outputId": "535f5e89-5cca-4bb1-b2c7-121f3427c326"
      },
      "source": [
        "ix = random.randint(0, len(train_imgs))\n",
        "img, label = train_imgs[ix], train_labels[ix]\n",
        "\n",
        "plt.imshow(img)\n",
        "plt.title(classes[label])\n",
        "plt.show()"
      ],
      "execution_count": 18,
      "outputs": [
        {
          "output_type": "display_data",
          "data": {
            "text/plain": [
              "<Figure size 640x480 with 1 Axes>"
            ],
            "image/png": "[encoded data removed]"
          },
          "metadata": {}
        }
      ]
    },
    {
      "cell_type": "code",
      "metadata": {
        "ExecuteTime": {
          "end_time": "2020-09-11T10:36:29.355312Z",
          "start_time": "2020-09-11T10:36:29.336666Z"
        },
        "id": "_hfVpUQF_CS9",
        "colab": {
          "base_uri": "https://localhost:8080/"
        },
        "outputId": "aa361741-3d97-461c-af4f-0ee1cbc4e1d5"
      },
      "source": [
        "pool = torch.nn.MaxPool2d(2, padding=0, stride=2)\n",
        "\n",
        "img_tensor = torch.from_numpy(img / 255.).unsqueeze(0).permute(0, 3, 1, 2).float()\n",
        "output = pool(img_tensor)\n",
        "output.shape"
      ],
      "execution_count": 19,
      "outputs": [
        {
          "output_type": "execute_result",
          "data": {
            "text/plain": [
              "torch.Size([1, 3, 32, 32])"
            ]
          },
          "metadata": {},
          "execution_count": 19
        }
      ]
    },
    {
      "cell_type": "code",
      "metadata": {
        "ExecuteTime": {
          "end_time": "2020-09-11T10:36:41.436312Z",
          "start_time": "2020-09-11T10:36:41.338315Z"
        },
        "id": "1npdaBnS_CS9",
        "colab": {
          "base_uri": "https://localhost:8080/",
          "height": 430
        },
        "outputId": "38edac1c-dd2b-4448-bd6c-280e85b7aaa0"
      },
      "source": [
        "plt.imshow(output.squeeze(0).permute(1,2,0))\n",
        "plt.show()"
      ],
      "execution_count": 20,
      "outputs": [
        {
          "output_type": "display_data",
          "data": {
            "text/plain": [
              "<Figure size 640x480 with 1 Axes>"
            ],
            "image/png": "[encoded data removed]"
          },
          "metadata": {}
        }
      ]
    },
    {
      "cell_type": "markdown",
      "metadata": {
        "id": "7fJAUFJQ_CS-"
      },
      "source": [
        "## Redes Convolucionales"
      ]
    },
    {
      "cell_type": "markdown",
      "metadata": {
        "id": "1fddXoWz_CS-"
      },
      "source": [
        "Una vez hemos visto los comoponentes principales de las `redes convolucionales` vamos a ver un ejemplo de cómo podemos implementar una red convolucional completa para, en este caso, la clasificación de las imágenes en el dataset MNIST. En primer lugar descargamos el dataset."
      ]
    },
    {
      "cell_type": "code",
      "metadata": {
        "ExecuteTime": {
          "end_time": "2020-09-11T11:12:49.010456Z",
          "start_time": "2020-09-11T11:12:48.984456Z"
        },
        "id": "T1EQEstK_CS-",
        "colab": {
          "base_uri": "https://localhost:8080/"
        },
        "outputId": "978b5440-b3a6-4539-e359-5b1030527f58"
      },
      "source": [
        "dataloader = {\n",
        "    'train': torch.utils.data.DataLoader(torchvision.datasets.CIFAR10('../data', train=True, download=True,\n",
        "                       transform=torchvision.transforms.Compose([\n",
        "                            transforms.Resize((64, 64)),\n",
        "                            torchvision.transforms.ToTensor(),\n",
        "                            torchvision.transforms.Normalize((0.1307,), (0.3081,))\n",
        "                            ])\n",
        "                      ), batch_size=64, shuffle=True, pin_memory=True),\n",
        "    'test': torch.utils.data.DataLoader(torchvision.datasets.CIFAR10('../data', train=False,\n",
        "                   transform=torchvision.transforms.Compose([\n",
        "                        transforms.Resize((64, 64)),\n",
        "                        torchvision.transforms.ToTensor(),\n",
        "                        torchvision.transforms.Normalize((0.1307,), (0.3081,))\n",
        "                        ])\n",
        "                     ), batch_size=128, shuffle=False, pin_memory=True)\n",
        "}"
      ],
      "execution_count": 21,
      "outputs": [
        {
          "output_type": "stream",
          "name": "stdout",
          "text": [
            "Downloading https://www.cs.toronto.edu/~kriz/cifar-10-python.tar.gz to ../data/cifar-10-python.tar.gz\n"
          ]
        },
        {
          "output_type": "stream",
          "name": "stderr",
          "text": [
            "100%|██████████| 170498071/170498071 [00:02<00:00, 83227124.11it/s]\n"
          ]
        },
        {
          "output_type": "stream",
          "name": "stdout",
          "text": [
            "Extracting ../data/cifar-10-python.tar.gz to ../data\n"
          ]
        }
      ]
    },
    {
      "cell_type": "code",
      "metadata": {
        "id": "Xd5ce_iqASo_"
      },
      "source": [],
      "execution_count": 21,
      "outputs": []
    },
    {
      "cell_type": "markdown",
      "metadata": {
        "id": "f5B-FT37_CS-"
      },
      "source": [
        "Vamos a definir una `red convolucional` con varias `capas convolucionales` y `capas de pooling`. Para poder clasificar las imágenes, conectaremos las salidas de la última capa de la red convolucional con un `MLP` para obtener las predicciones finales."
      ]
    },
    {
      "cell_type": "code",
      "metadata": {
        "ExecuteTime": {
          "end_time": "2020-09-11T10:56:58.781104Z",
          "start_time": "2020-09-11T10:56:58.774102Z"
        },
        "id": "46xpDTx0_CS-"
      },
      "source": [
        "def block(c_in, c_out, k=5, p=0, s=2, pk=2, ps=1):\n",
        "    return torch.nn.Sequential(\n",
        "        torch.nn.Conv2d(c_in, c_out, k, padding=p, stride=s),\n",
        "        torch.nn.ReLU(),\n",
        "        torch.nn.MaxPool2d(pk, stride=ps)\n",
        "    )\n",
        "\n",
        "def block2(c_in, c_out):\n",
        "    return torch.nn.Sequential(\n",
        "        torch.nn.Linear(c_in, c_out),\n",
        "        torch.nn.ReLU()\n",
        "    )\n",
        "\n",
        "class CNN1(torch.nn.Module):\n",
        "  def __init__(self, n_channels=3, n_outputs=10):\n",
        "    super().__init__()\n",
        "    self.conv1 = block(n_channels, 32)\n",
        "    self.conv2 = block(32, 64)\n",
        "    self.conv3 = block(64, 128)\n",
        "    #self.conv4 = block(64, 128)\n",
        "    self.fc = torch.nn.Linear(128 * 3 * 3, n_outputs)\n",
        "\n",
        "  def forward(self, x):\n",
        "    #print(\"Dimensiones:\")\n",
        "    #print(\"Entrada: \", x.shape)\n",
        "    x = self.conv1(x)\n",
        "    #print(\"conv1: \", x.shape)\n",
        "    x = self.conv2(x)\n",
        "    #print(\"conv2: \", x.shape)\n",
        "    x = self.conv3(x)\n",
        "    #print(\"conv3: \", x.shape)\n",
        "    #x = self.conv4(x)\n",
        "    #print(\"conv4: \", x.shape)\n",
        "    x = x.view(x.shape[0], -1)\n",
        "    #print(\"pre fc: \", x.shape)\n",
        "    x = self.fc(x)\n",
        "    #print(\"Salida: \", x.shape)\n",
        "    return x"
      ],
      "execution_count": 22,
      "outputs": []
    },
    {
      "cell_type": "code",
      "metadata": {
        "ExecuteTime": {
          "end_time": "2020-09-11T10:56:58.919115Z",
          "start_time": "2020-09-11T10:56:58.891112Z"
        },
        "id": "5frP5baY_CS_",
        "colab": {
          "base_uri": "https://localhost:8080/"
        },
        "outputId": "e9d0aa49-fd52-4775-b7cc-09a52bc092c7"
      },
      "source": [
        "model = CNN1()\n",
        "output = model(torch.randn(64, 3, 64, 64))\n",
        "print(output.shape)"
      ],
      "execution_count": 23,
      "outputs": [
        {
          "output_type": "stream",
          "name": "stdout",
          "text": [
            "torch.Size([64, 10])\n"
          ]
        }
      ]
    },
    {
      "cell_type": "markdown",
      "source": [
        "AL utilizar en las capas convolucionales k=5 , p=0, s=2 y en los pooling k=2, s=1. Con las dimensiones de las imagenes de 64x64 solo podemos llegar hasta 3 capas convoluciones con sus respectivos pooling , por que apartir de la cap3 ya no se puede disminuir la dimensin espacial , si quisieramos hacer para 4 capas convolucionales con esas especificaciones el tamaño de la imagen dentria que aumnetar"
      ],
      "metadata": {
        "id": "pat2F6SuUjvy"
      }
    },
    {
      "cell_type": "code",
      "metadata": {
        "ExecuteTime": {
          "end_time": "2020-09-11T10:56:59.127674Z",
          "start_time": "2020-09-11T10:56:59.123674Z"
        },
        "id": "4jKjpXal_CS_"
      },
      "source": [
        "class CNN(torch.nn.Module):\n",
        "  def __init__(self, n_channels=3, n_outputs=10):\n",
        "    super().__init__()\n",
        "    self.conv1 = block(n_channels, 256)\n",
        "    self.conv2 = block(256, 128)\n",
        "    self.conv3 = block(128,64)\n",
        "    self.fc = torch.nn.Linear(64*3*3, n_outputs)\n",
        "\n",
        "  def forward(self, x):\n",
        "    x = self.conv1(x)\n",
        "    x = self.conv2(x)\n",
        "    x = self.conv3(x)\n",
        "    x = x.view(x.shape[0], -1)\n",
        "    x = self.fc(x)\n",
        "    return x"
      ],
      "execution_count": 24,
      "outputs": []
    },
    {
      "cell_type": "markdown",
      "metadata": {
        "id": "dwkYrMMk_CS_"
      },
      "source": [
        "Ahora, podemos entrenar la red utilizando nuestro bucle de entrenamiento."
      ]
    },
    {
      "cell_type": "code",
      "metadata": {
        "ExecuteTime": {
          "end_time": "2020-09-11T10:56:59.376687Z",
          "start_time": "2020-09-11T10:56:59.369674Z"
        },
        "code_folding": [],
        "id": "xq_XUCWD_CS_"
      },
      "source": [
        "from tqdm import tqdm\n",
        "import numpy as np\n",
        "\n",
        "def fit(model, dataloader, epochs=30):\n",
        "    model.to(device)\n",
        "    optimizer = torch.optim.Adam(model.parameters(), lr=1e-3)\n",
        "    criterion = torch.nn.CrossEntropyLoss()\n",
        "    for epoch in range(1, epochs+1):\n",
        "        model.train()\n",
        "        train_loss, train_acc = [], []\n",
        "        bar = tqdm(dataloader['train'])\n",
        "        for batch in bar:\n",
        "            X, y = batch\n",
        "            X, y = X.to(device), y.to(device)\n",
        "            optimizer.zero_grad()\n",
        "            y_hat = model(X)\n",
        "            loss = criterion(y_hat, y)\n",
        "            loss.backward()\n",
        "            optimizer.step()\n",
        "            train_loss.append(loss.item())\n",
        "            acc = (y == torch.argmax(y_hat, axis=1)).sum().item() / len(y)\n",
        "            train_acc.append(acc)\n",
        "            bar.set_description(f\"loss {np.mean(train_loss):.5f} acc {np.mean(train_acc):.5f}\")\n",
        "        bar = tqdm(dataloader['test'])\n",
        "        val_loss, val_acc = [], []\n",
        "        model.eval()\n",
        "        with torch.no_grad():\n",
        "            for batch in bar:\n",
        "                X, y = batch\n",
        "                X, y = X.to(device), y.to(device)\n",
        "                y_hat = model(X)\n",
        "                loss = criterion(y_hat, y)\n",
        "                val_loss.append(loss.item())\n",
        "                acc = (y == torch.argmax(y_hat, axis=1)).sum().item() / len(y)\n",
        "                val_acc.append(acc)\n",
        "                bar.set_description(f\"val_loss {np.mean(val_loss):.5f} val_acc {np.mean(val_acc):.5f}\")\n",
        "        print(f\"Epoch {epoch}/{epochs} loss {np.mean(train_loss):.5f} val_loss {np.mean(val_loss):.5f} acc {np.mean(train_acc):.5f} val_acc {np.mean(val_acc):.5f}\")"
      ],
      "execution_count": 25,
      "outputs": []
    },
    {
      "cell_type": "code",
      "metadata": {
        "ExecuteTime": {
          "end_time": "2020-09-11T10:58:32.330170Z",
          "start_time": "2020-09-11T10:56:59.487673Z"
        },
        "id": "KAEONSZ9_CTA",
        "colab": {
          "base_uri": "https://localhost:8080/"
        },
        "outputId": "1b72e4a8-56bf-4df7-c861-2f56ad3b3e00"
      },
      "source": [
        "model = CNN()\n",
        "fit(model, dataloader)"
      ],
      "execution_count": 26,
      "outputs": [
        {
          "output_type": "stream",
          "name": "stderr",
          "text": [
            "loss 1.56619 acc 0.42947: 100%|██████████| 782/782 [00:56<00:00, 13.95it/s]\n",
            "val_loss 1.31300 val_acc 0.52799: 100%|██████████| 79/79 [00:06<00:00, 12.62it/s]\n"
          ]
        },
        {
          "output_type": "stream",
          "name": "stdout",
          "text": [
            "Epoch 1/30 loss 1.56619 val_loss 1.31300 acc 0.42947 val_acc 0.52799\n"
          ]
        },
        {
          "output_type": "stream",
          "name": "stderr",
          "text": [
            "loss 1.23668 acc 0.55998: 100%|██████████| 782/782 [00:48<00:00, 16.09it/s]\n",
            "val_loss 1.17924 val_acc 0.57743: 100%|██████████| 79/79 [00:06<00:00, 11.46it/s]\n"
          ]
        },
        {
          "output_type": "stream",
          "name": "stdout",
          "text": [
            "Epoch 2/30 loss 1.23668 val_loss 1.17924 acc 0.55998 val_acc 0.57743\n"
          ]
        },
        {
          "output_type": "stream",
          "name": "stderr",
          "text": [
            "loss 1.12817 acc 0.60280: 100%|██████████| 782/782 [00:47<00:00, 16.50it/s]\n",
            "val_loss 1.12614 val_acc 0.60394: 100%|██████████| 79/79 [00:06<00:00, 11.76it/s]\n"
          ]
        },
        {
          "output_type": "stream",
          "name": "stdout",
          "text": [
            "Epoch 3/30 loss 1.12817 val_loss 1.12614 acc 0.60280 val_acc 0.60394\n"
          ]
        },
        {
          "output_type": "stream",
          "name": "stderr",
          "text": [
            "loss 1.05483 acc 0.63169: 100%|██████████| 782/782 [00:47<00:00, 16.32it/s]\n",
            "val_loss 1.06121 val_acc 0.62609: 100%|██████████| 79/79 [00:06<00:00, 12.83it/s]\n"
          ]
        },
        {
          "output_type": "stream",
          "name": "stdout",
          "text": [
            "Epoch 4/30 loss 1.05483 val_loss 1.06121 acc 0.63169 val_acc 0.62609\n"
          ]
        },
        {
          "output_type": "stream",
          "name": "stderr",
          "text": [
            "loss 1.01480 acc 0.64708: 100%|██████████| 782/782 [00:48<00:00, 16.20it/s]\n",
            "val_loss 1.13509 val_acc 0.61096: 100%|██████████| 79/79 [00:06<00:00, 11.59it/s]\n"
          ]
        },
        {
          "output_type": "stream",
          "name": "stdout",
          "text": [
            "Epoch 5/30 loss 1.01480 val_loss 1.13509 acc 0.64708 val_acc 0.61096\n"
          ]
        },
        {
          "output_type": "stream",
          "name": "stderr",
          "text": [
            "loss 0.97114 acc 0.65941: 100%|██████████| 782/782 [00:47<00:00, 16.58it/s]\n",
            "val_loss 1.13169 val_acc 0.59840: 100%|██████████| 79/79 [00:07<00:00, 11.24it/s]\n"
          ]
        },
        {
          "output_type": "stream",
          "name": "stdout",
          "text": [
            "Epoch 6/30 loss 0.97114 val_loss 1.13169 acc 0.65941 val_acc 0.59840\n"
          ]
        },
        {
          "output_type": "stream",
          "name": "stderr",
          "text": [
            "loss 0.94283 acc 0.66904: 100%|██████████| 782/782 [00:47<00:00, 16.30it/s]\n",
            "val_loss 0.98902 val_acc 0.65655: 100%|██████████| 79/79 [00:06<00:00, 12.76it/s]\n"
          ]
        },
        {
          "output_type": "stream",
          "name": "stdout",
          "text": [
            "Epoch 7/30 loss 0.94283 val_loss 0.98902 acc 0.66904 val_acc 0.65655\n"
          ]
        },
        {
          "output_type": "stream",
          "name": "stderr",
          "text": [
            "loss 0.91076 acc 0.68248: 100%|██████████| 782/782 [00:47<00:00, 16.40it/s]\n",
            "val_loss 1.01666 val_acc 0.64824: 100%|██████████| 79/79 [00:06<00:00, 12.25it/s]\n"
          ]
        },
        {
          "output_type": "stream",
          "name": "stdout",
          "text": [
            "Epoch 8/30 loss 0.91076 val_loss 1.01666 acc 0.68248 val_acc 0.64824\n"
          ]
        },
        {
          "output_type": "stream",
          "name": "stderr",
          "text": [
            "loss 0.88391 acc 0.69092: 100%|██████████| 782/782 [00:48<00:00, 16.29it/s]\n",
            "val_loss 1.05008 val_acc 0.62955: 100%|██████████| 79/79 [00:06<00:00, 11.78it/s]\n"
          ]
        },
        {
          "output_type": "stream",
          "name": "stdout",
          "text": [
            "Epoch 9/30 loss 0.88391 val_loss 1.05008 acc 0.69092 val_acc 0.62955\n"
          ]
        },
        {
          "output_type": "stream",
          "name": "stderr",
          "text": [
            "loss 0.86357 acc 0.69709: 100%|██████████| 782/782 [00:46<00:00, 16.79it/s]\n",
            "val_loss 1.03825 val_acc 0.64537: 100%|██████████| 79/79 [00:06<00:00, 11.67it/s]\n"
          ]
        },
        {
          "output_type": "stream",
          "name": "stdout",
          "text": [
            "Epoch 10/30 loss 0.86357 val_loss 1.03825 acc 0.69709 val_acc 0.64537\n"
          ]
        },
        {
          "output_type": "stream",
          "name": "stderr",
          "text": [
            "loss 0.84465 acc 0.70291: 100%|██████████| 782/782 [00:46<00:00, 16.77it/s]\n",
            "val_loss 1.06548 val_acc 0.64448: 100%|██████████| 79/79 [00:06<00:00, 12.15it/s]\n"
          ]
        },
        {
          "output_type": "stream",
          "name": "stdout",
          "text": [
            "Epoch 11/30 loss 0.84465 val_loss 1.06548 acc 0.70291 val_acc 0.64448\n"
          ]
        },
        {
          "output_type": "stream",
          "name": "stderr",
          "text": [
            "loss 0.82380 acc 0.71244: 100%|██████████| 782/782 [00:48<00:00, 16.25it/s]\n",
            "val_loss 0.99429 val_acc 0.65704: 100%|██████████| 79/79 [00:06<00:00, 13.00it/s]\n"
          ]
        },
        {
          "output_type": "stream",
          "name": "stdout",
          "text": [
            "Epoch 12/30 loss 0.82380 val_loss 0.99429 acc 0.71244 val_acc 0.65704\n"
          ]
        },
        {
          "output_type": "stream",
          "name": "stderr",
          "text": [
            "loss 0.80245 acc 0.71765: 100%|██████████| 782/782 [00:47<00:00, 16.55it/s]\n",
            "val_loss 1.01433 val_acc 0.65328: 100%|██████████| 79/79 [00:06<00:00, 12.15it/s]\n"
          ]
        },
        {
          "output_type": "stream",
          "name": "stdout",
          "text": [
            "Epoch 13/30 loss 0.80245 val_loss 1.01433 acc 0.71765 val_acc 0.65328\n"
          ]
        },
        {
          "output_type": "stream",
          "name": "stderr",
          "text": [
            "loss 0.79376 acc 0.72253: 100%|██████████| 782/782 [00:47<00:00, 16.54it/s]\n",
            "val_loss 1.09736 val_acc 0.63627: 100%|██████████| 79/79 [00:06<00:00, 11.49it/s]\n"
          ]
        },
        {
          "output_type": "stream",
          "name": "stdout",
          "text": [
            "Epoch 14/30 loss 0.79376 val_loss 1.09736 acc 0.72253 val_acc 0.63627\n"
          ]
        },
        {
          "output_type": "stream",
          "name": "stderr",
          "text": [
            "loss 0.77073 acc 0.73054: 100%|██████████| 782/782 [00:47<00:00, 16.43it/s]\n",
            "val_loss 1.01674 val_acc 0.66614: 100%|██████████| 79/79 [00:06<00:00, 12.20it/s]\n"
          ]
        },
        {
          "output_type": "stream",
          "name": "stdout",
          "text": [
            "Epoch 15/30 loss 0.77073 val_loss 1.01674 acc 0.73054 val_acc 0.66614\n"
          ]
        },
        {
          "output_type": "stream",
          "name": "stderr",
          "text": [
            "loss 0.75568 acc 0.73463: 100%|██████████| 782/782 [00:47<00:00, 16.50it/s]\n",
            "val_loss 1.05831 val_acc 0.64913: 100%|██████████| 79/79 [00:06<00:00, 12.57it/s]\n"
          ]
        },
        {
          "output_type": "stream",
          "name": "stdout",
          "text": [
            "Epoch 16/30 loss 0.75568 val_loss 1.05831 acc 0.73463 val_acc 0.64913\n"
          ]
        },
        {
          "output_type": "stream",
          "name": "stderr",
          "text": [
            "loss 0.74266 acc 0.74113: 100%|██████████| 782/782 [00:47<00:00, 16.52it/s]\n",
            "val_loss 1.01260 val_acc 0.67118: 100%|██████████| 79/79 [00:06<00:00, 11.69it/s]\n"
          ]
        },
        {
          "output_type": "stream",
          "name": "stdout",
          "text": [
            "Epoch 17/30 loss 0.74266 val_loss 1.01260 acc 0.74113 val_acc 0.67118\n"
          ]
        },
        {
          "output_type": "stream",
          "name": "stderr",
          "text": [
            "loss 0.72008 acc 0.74816: 100%|██████████| 782/782 [00:46<00:00, 16.70it/s]\n",
            "val_loss 1.06193 val_acc 0.65299: 100%|██████████| 79/79 [00:06<00:00, 11.49it/s]\n"
          ]
        },
        {
          "output_type": "stream",
          "name": "stdout",
          "text": [
            "Epoch 18/30 loss 0.72008 val_loss 1.06193 acc 0.74816 val_acc 0.65299\n"
          ]
        },
        {
          "output_type": "stream",
          "name": "stderr",
          "text": [
            "loss 0.70552 acc 0.75364: 100%|██████████| 782/782 [00:47<00:00, 16.41it/s]\n",
            "val_loss 1.07629 val_acc 0.65843: 100%|██████████| 79/79 [00:06<00:00, 11.67it/s]\n"
          ]
        },
        {
          "output_type": "stream",
          "name": "stdout",
          "text": [
            "Epoch 19/30 loss 0.70552 val_loss 1.07629 acc 0.75364 val_acc 0.65843\n"
          ]
        },
        {
          "output_type": "stream",
          "name": "stderr",
          "text": [
            "loss 0.69418 acc 0.75791: 100%|██████████| 782/782 [00:47<00:00, 16.54it/s]\n",
            "val_loss 1.09040 val_acc 0.65407: 100%|██████████| 79/79 [00:06<00:00, 12.94it/s]\n"
          ]
        },
        {
          "output_type": "stream",
          "name": "stdout",
          "text": [
            "Epoch 20/30 loss 0.69418 val_loss 1.09040 acc 0.75791 val_acc 0.65407\n"
          ]
        },
        {
          "output_type": "stream",
          "name": "stderr",
          "text": [
            "loss 0.67345 acc 0.76447: 100%|██████████| 782/782 [00:46<00:00, 16.65it/s]\n",
            "val_loss 1.06579 val_acc 0.65981: 100%|██████████| 79/79 [00:06<00:00, 12.62it/s]\n"
          ]
        },
        {
          "output_type": "stream",
          "name": "stdout",
          "text": [
            "Epoch 21/30 loss 0.67345 val_loss 1.06579 acc 0.76447 val_acc 0.65981\n"
          ]
        },
        {
          "output_type": "stream",
          "name": "stderr",
          "text": [
            "loss 0.65989 acc 0.76984: 100%|██████████| 782/782 [00:47<00:00, 16.60it/s]\n",
            "val_loss 1.07342 val_acc 0.66199: 100%|██████████| 79/79 [00:06<00:00, 11.80it/s]\n"
          ]
        },
        {
          "output_type": "stream",
          "name": "stdout",
          "text": [
            "Epoch 22/30 loss 0.65989 val_loss 1.07342 acc 0.76984 val_acc 0.66199\n"
          ]
        },
        {
          "output_type": "stream",
          "name": "stderr",
          "text": [
            "loss 0.65176 acc 0.77138: 100%|██████████| 782/782 [00:46<00:00, 16.85it/s]\n",
            "val_loss 1.06697 val_acc 0.66673: 100%|██████████| 79/79 [00:06<00:00, 11.42it/s]\n"
          ]
        },
        {
          "output_type": "stream",
          "name": "stdout",
          "text": [
            "Epoch 23/30 loss 0.65176 val_loss 1.06697 acc 0.77138 val_acc 0.66673\n"
          ]
        },
        {
          "output_type": "stream",
          "name": "stderr",
          "text": [
            "loss 0.63852 acc 0.77623: 100%|██████████| 782/782 [00:46<00:00, 16.69it/s]\n",
            "val_loss 1.09449 val_acc 0.66258: 100%|██████████| 79/79 [00:06<00:00, 12.95it/s]\n"
          ]
        },
        {
          "output_type": "stream",
          "name": "stdout",
          "text": [
            "Epoch 24/30 loss 0.63852 val_loss 1.09449 acc 0.77623 val_acc 0.66258\n"
          ]
        },
        {
          "output_type": "stream",
          "name": "stderr",
          "text": [
            "loss 0.62141 acc 0.78257: 100%|██████████| 782/782 [00:47<00:00, 16.48it/s]\n",
            "val_loss 1.15024 val_acc 0.64854: 100%|██████████| 79/79 [00:06<00:00, 12.94it/s]\n"
          ]
        },
        {
          "output_type": "stream",
          "name": "stdout",
          "text": [
            "Epoch 25/30 loss 0.62141 val_loss 1.15024 acc 0.78257 val_acc 0.64854\n"
          ]
        },
        {
          "output_type": "stream",
          "name": "stderr",
          "text": [
            "loss 0.61204 acc 0.78531: 100%|██████████| 782/782 [00:48<00:00, 16.17it/s]\n",
            "val_loss 1.11385 val_acc 0.66752: 100%|██████████| 79/79 [00:06<00:00, 11.91it/s]\n"
          ]
        },
        {
          "output_type": "stream",
          "name": "stdout",
          "text": [
            "Epoch 26/30 loss 0.61204 val_loss 1.11385 acc 0.78531 val_acc 0.66752\n"
          ]
        },
        {
          "output_type": "stream",
          "name": "stderr",
          "text": [
            "loss 0.59215 acc 0.79276: 100%|██████████| 782/782 [00:47<00:00, 16.57it/s]\n",
            "val_loss 1.14366 val_acc 0.66307: 100%|██████████| 79/79 [00:06<00:00, 11.58it/s]\n"
          ]
        },
        {
          "output_type": "stream",
          "name": "stdout",
          "text": [
            "Epoch 27/30 loss 0.59215 val_loss 1.14366 acc 0.79276 val_acc 0.66307\n"
          ]
        },
        {
          "output_type": "stream",
          "name": "stderr",
          "text": [
            "loss 0.58683 acc 0.79216: 100%|██████████| 782/782 [00:46<00:00, 16.74it/s]\n",
            "val_loss 1.18612 val_acc 0.65259: 100%|██████████| 79/79 [00:06<00:00, 11.77it/s]\n"
          ]
        },
        {
          "output_type": "stream",
          "name": "stdout",
          "text": [
            "Epoch 28/30 loss 0.58683 val_loss 1.18612 acc 0.79216 val_acc 0.65259\n"
          ]
        },
        {
          "output_type": "stream",
          "name": "stderr",
          "text": [
            "loss 0.56750 acc 0.80205: 100%|██████████| 782/782 [00:47<00:00, 16.36it/s]\n",
            "val_loss 1.15130 val_acc 0.66574: 100%|██████████| 79/79 [00:06<00:00, 12.94it/s]\n"
          ]
        },
        {
          "output_type": "stream",
          "name": "stdout",
          "text": [
            "Epoch 29/30 loss 0.56750 val_loss 1.15130 acc 0.80205 val_acc 0.66574\n"
          ]
        },
        {
          "output_type": "stream",
          "name": "stderr",
          "text": [
            "loss 0.55696 acc 0.80389: 100%|██████████| 782/782 [00:47<00:00, 16.51it/s]\n",
            "val_loss 1.16777 val_acc 0.66614: 100%|██████████| 79/79 [00:06<00:00, 12.36it/s]"
          ]
        },
        {
          "output_type": "stream",
          "name": "stdout",
          "text": [
            "Epoch 30/30 loss 0.55696 val_loss 1.16777 acc 0.80389 val_acc 0.66614\n"
          ]
        },
        {
          "output_type": "stream",
          "name": "stderr",
          "text": [
            "\n"
          ]
        }
      ]
    },
    {
      "cell_type": "markdown",
      "source": [
        "con 10 epock se logro llegar a un 72 % de precision y con 20 epoch se logro 76 % de presicion"
      ],
      "metadata": {
        "id": "b-J0sMqod0Vx"
      }
    },
    {
      "cell_type": "code",
      "source": [
        "model1 = CNN1()\n",
        "fit(model1, dataloader)"
      ],
      "metadata": {
        "colab": {
          "base_uri": "https://localhost:8080/"
        },
        "id": "OlAhnGuibOjg",
        "outputId": "7faf6859-7b57-463c-82ed-54dc5113a7e0"
      },
      "execution_count": 27,
      "outputs": [
        {
          "output_type": "stream",
          "name": "stderr",
          "text": [
            "loss 1.50594 acc 0.45538: 100%|██████████| 782/782 [00:34<00:00, 22.92it/s]\n",
            "val_loss 1.34773 val_acc 0.51820: 100%|██████████| 79/79 [00:05<00:00, 13.67it/s]\n"
          ]
        },
        {
          "output_type": "stream",
          "name": "stdout",
          "text": [
            "Epoch 1/30 loss 1.50594 val_loss 1.34773 acc 0.45538 val_acc 0.51820\n"
          ]
        },
        {
          "output_type": "stream",
          "name": "stderr",
          "text": [
            "loss 1.15116 acc 0.59627: 100%|██████████| 782/782 [00:34<00:00, 22.85it/s]\n",
            "val_loss 1.09428 val_acc 0.62144: 100%|██████████| 79/79 [00:05<00:00, 13.61it/s]\n"
          ]
        },
        {
          "output_type": "stream",
          "name": "stdout",
          "text": [
            "Epoch 2/30 loss 1.15116 val_loss 1.09428 acc 0.59627 val_acc 0.62144\n"
          ]
        },
        {
          "output_type": "stream",
          "name": "stderr",
          "text": [
            "loss 1.01059 acc 0.64930: 100%|██████████| 782/782 [00:35<00:00, 21.88it/s]\n",
            "val_loss 1.02065 val_acc 0.64962: 100%|██████████| 79/79 [00:05<00:00, 15.56it/s]\n"
          ]
        },
        {
          "output_type": "stream",
          "name": "stdout",
          "text": [
            "Epoch 3/30 loss 1.01059 val_loss 1.02065 acc 0.64930 val_acc 0.64962\n"
          ]
        },
        {
          "output_type": "stream",
          "name": "stderr",
          "text": [
            "loss 0.92779 acc 0.67755: 100%|██████████| 782/782 [00:34<00:00, 22.57it/s]\n",
            "val_loss 0.97779 val_acc 0.66901: 100%|██████████| 79/79 [00:04<00:00, 15.98it/s]\n"
          ]
        },
        {
          "output_type": "stream",
          "name": "stdout",
          "text": [
            "Epoch 4/30 loss 0.92779 val_loss 0.97779 acc 0.67755 val_acc 0.66901\n"
          ]
        },
        {
          "output_type": "stream",
          "name": "stderr",
          "text": [
            "loss 0.85339 acc 0.70426: 100%|██████████| 782/782 [00:34<00:00, 22.37it/s]\n",
            "val_loss 0.94492 val_acc 0.67652: 100%|██████████| 79/79 [00:04<00:00, 15.82it/s]\n"
          ]
        },
        {
          "output_type": "stream",
          "name": "stdout",
          "text": [
            "Epoch 5/30 loss 0.85339 val_loss 0.94492 acc 0.70426 val_acc 0.67652\n"
          ]
        },
        {
          "output_type": "stream",
          "name": "stderr",
          "text": [
            "loss 0.79699 acc 0.72367: 100%|██████████| 782/782 [00:34<00:00, 22.40it/s]\n",
            "val_loss 0.97102 val_acc 0.67039: 100%|██████████| 79/79 [00:05<00:00, 15.22it/s]\n"
          ]
        },
        {
          "output_type": "stream",
          "name": "stdout",
          "text": [
            "Epoch 6/30 loss 0.79699 val_loss 0.97102 acc 0.72367 val_acc 0.67039\n"
          ]
        },
        {
          "output_type": "stream",
          "name": "stderr",
          "text": [
            "loss 0.75692 acc 0.73905: 100%|██████████| 782/782 [00:34<00:00, 22.77it/s]\n",
            "val_loss 0.95967 val_acc 0.67623: 100%|██████████| 79/79 [00:05<00:00, 15.10it/s]\n"
          ]
        },
        {
          "output_type": "stream",
          "name": "stdout",
          "text": [
            "Epoch 7/30 loss 0.75692 val_loss 0.95967 acc 0.73905 val_acc 0.67623\n"
          ]
        },
        {
          "output_type": "stream",
          "name": "stderr",
          "text": [
            "loss 0.71153 acc 0.75282: 100%|██████████| 782/782 [00:34<00:00, 22.51it/s]\n",
            "val_loss 0.96978 val_acc 0.68295: 100%|██████████| 79/79 [00:05<00:00, 13.96it/s]\n"
          ]
        },
        {
          "output_type": "stream",
          "name": "stdout",
          "text": [
            "Epoch 8/30 loss 0.71153 val_loss 0.96978 acc 0.75282 val_acc 0.68295\n"
          ]
        },
        {
          "output_type": "stream",
          "name": "stderr",
          "text": [
            "loss 0.69053 acc 0.75937: 100%|██████████| 782/782 [00:33<00:00, 23.19it/s]\n",
            "val_loss 0.93797 val_acc 0.69333: 100%|██████████| 79/79 [00:05<00:00, 14.14it/s]\n"
          ]
        },
        {
          "output_type": "stream",
          "name": "stdout",
          "text": [
            "Epoch 9/30 loss 0.69053 val_loss 0.93797 acc 0.75937 val_acc 0.69333\n"
          ]
        },
        {
          "output_type": "stream",
          "name": "stderr",
          "text": [
            "loss 0.65612 acc 0.77214: 100%|██████████| 782/782 [00:34<00:00, 22.79it/s]\n",
            "val_loss 1.00180 val_acc 0.67425: 100%|██████████| 79/79 [00:05<00:00, 14.28it/s]\n"
          ]
        },
        {
          "output_type": "stream",
          "name": "stdout",
          "text": [
            "Epoch 10/30 loss 0.65612 val_loss 1.00180 acc 0.77214 val_acc 0.67425\n"
          ]
        },
        {
          "output_type": "stream",
          "name": "stderr",
          "text": [
            "loss 0.62532 acc 0.78143: 100%|██████████| 782/782 [00:34<00:00, 22.76it/s]\n",
            "val_loss 0.97544 val_acc 0.68681: 100%|██████████| 79/79 [00:05<00:00, 15.79it/s]\n"
          ]
        },
        {
          "output_type": "stream",
          "name": "stdout",
          "text": [
            "Epoch 11/30 loss 0.62532 val_loss 0.97544 acc 0.78143 val_acc 0.68681\n"
          ]
        },
        {
          "output_type": "stream",
          "name": "stderr",
          "text": [
            "loss 0.59430 acc 0.79158: 100%|██████████| 782/782 [00:35<00:00, 22.06it/s]\n",
            "val_loss 0.98791 val_acc 0.69314: 100%|██████████| 79/79 [00:04<00:00, 16.13it/s]\n"
          ]
        },
        {
          "output_type": "stream",
          "name": "stdout",
          "text": [
            "Epoch 12/30 loss 0.59430 val_loss 0.98791 acc 0.79158 val_acc 0.69314\n"
          ]
        },
        {
          "output_type": "stream",
          "name": "stderr",
          "text": [
            "loss 0.56825 acc 0.80077: 100%|██████████| 782/782 [00:34<00:00, 22.76it/s]\n",
            "val_loss 1.05210 val_acc 0.68582: 100%|██████████| 79/79 [00:04<00:00, 16.07it/s]\n"
          ]
        },
        {
          "output_type": "stream",
          "name": "stdout",
          "text": [
            "Epoch 13/30 loss 0.56825 val_loss 1.05210 acc 0.80077 val_acc 0.68582\n"
          ]
        },
        {
          "output_type": "stream",
          "name": "stderr",
          "text": [
            "loss 0.54808 acc 0.80695: 100%|██████████| 782/782 [00:34<00:00, 22.80it/s]\n",
            "val_loss 1.01249 val_acc 0.69274: 100%|██████████| 79/79 [00:04<00:00, 16.04it/s]\n"
          ]
        },
        {
          "output_type": "stream",
          "name": "stdout",
          "text": [
            "Epoch 14/30 loss 0.54808 val_loss 1.01249 acc 0.80695 val_acc 0.69274\n"
          ]
        },
        {
          "output_type": "stream",
          "name": "stderr",
          "text": [
            "loss 0.51966 acc 0.81869: 100%|██████████| 782/782 [00:34<00:00, 22.91it/s]\n",
            "val_loss 1.05788 val_acc 0.68928: 100%|██████████| 79/79 [00:04<00:00, 16.22it/s]\n"
          ]
        },
        {
          "output_type": "stream",
          "name": "stdout",
          "text": [
            "Epoch 15/30 loss 0.51966 val_loss 1.05788 acc 0.81869 val_acc 0.68928\n"
          ]
        },
        {
          "output_type": "stream",
          "name": "stderr",
          "text": [
            "loss 0.49401 acc 0.82551: 100%|██████████| 782/782 [00:34<00:00, 22.65it/s]\n",
            "val_loss 1.15054 val_acc 0.67069: 100%|██████████| 79/79 [00:04<00:00, 16.24it/s]\n"
          ]
        },
        {
          "output_type": "stream",
          "name": "stdout",
          "text": [
            "Epoch 16/30 loss 0.49401 val_loss 1.15054 acc 0.82551 val_acc 0.67069\n"
          ]
        },
        {
          "output_type": "stream",
          "name": "stderr",
          "text": [
            "loss 0.48259 acc 0.83006: 100%|██████████| 782/782 [00:34<00:00, 22.48it/s]\n",
            "val_loss 1.17666 val_acc 0.66673: 100%|██████████| 79/79 [00:05<00:00, 14.10it/s]\n"
          ]
        },
        {
          "output_type": "stream",
          "name": "stdout",
          "text": [
            "Epoch 17/30 loss 0.48259 val_loss 1.17666 acc 0.83006 val_acc 0.66673\n"
          ]
        },
        {
          "output_type": "stream",
          "name": "stderr",
          "text": [
            "loss 0.45616 acc 0.83941: 100%|██████████| 782/782 [00:33<00:00, 23.16it/s]\n",
            "val_loss 1.15555 val_acc 0.68157: 100%|██████████| 79/79 [00:05<00:00, 13.93it/s]\n"
          ]
        },
        {
          "output_type": "stream",
          "name": "stdout",
          "text": [
            "Epoch 18/30 loss 0.45616 val_loss 1.15555 acc 0.83941 val_acc 0.68157\n"
          ]
        },
        {
          "output_type": "stream",
          "name": "stderr",
          "text": [
            "loss 0.42963 acc 0.84741: 100%|██████████| 782/782 [00:33<00:00, 23.26it/s]\n",
            "val_loss 1.19388 val_acc 0.67544: 100%|██████████| 79/79 [00:05<00:00, 14.12it/s]\n"
          ]
        },
        {
          "output_type": "stream",
          "name": "stdout",
          "text": [
            "Epoch 19/30 loss 0.42963 val_loss 1.19388 acc 0.84741 val_acc 0.67544\n"
          ]
        },
        {
          "output_type": "stream",
          "name": "stderr",
          "text": [
            "loss 0.41603 acc 0.85320: 100%|██████████| 782/782 [00:34<00:00, 22.93it/s]\n",
            "val_loss 1.22918 val_acc 0.68523: 100%|██████████| 79/79 [00:05<00:00, 14.86it/s]\n"
          ]
        },
        {
          "output_type": "stream",
          "name": "stdout",
          "text": [
            "Epoch 20/30 loss 0.41603 val_loss 1.22918 acc 0.85320 val_acc 0.68523\n"
          ]
        },
        {
          "output_type": "stream",
          "name": "stderr",
          "text": [
            "loss 0.40810 acc 0.85446: 100%|██████████| 782/782 [00:34<00:00, 22.69it/s]\n",
            "val_loss 1.27795 val_acc 0.68028: 100%|██████████| 79/79 [00:04<00:00, 16.33it/s]\n"
          ]
        },
        {
          "output_type": "stream",
          "name": "stdout",
          "text": [
            "Epoch 21/30 loss 0.40810 val_loss 1.27795 acc 0.85446 val_acc 0.68028\n"
          ]
        },
        {
          "output_type": "stream",
          "name": "stderr",
          "text": [
            "loss 0.38451 acc 0.86377: 100%|██████████| 782/782 [00:34<00:00, 22.41it/s]\n",
            "val_loss 1.31400 val_acc 0.67820: 100%|██████████| 79/79 [00:04<00:00, 16.13it/s]\n"
          ]
        },
        {
          "output_type": "stream",
          "name": "stdout",
          "text": [
            "Epoch 22/30 loss 0.38451 val_loss 1.31400 acc 0.86377 val_acc 0.67820\n"
          ]
        },
        {
          "output_type": "stream",
          "name": "stderr",
          "text": [
            "loss 0.37147 acc 0.86847: 100%|██████████| 782/782 [00:34<00:00, 22.62it/s]\n",
            "val_loss 1.33970 val_acc 0.68196: 100%|██████████| 79/79 [00:04<00:00, 16.08it/s]\n"
          ]
        },
        {
          "output_type": "stream",
          "name": "stdout",
          "text": [
            "Epoch 23/30 loss 0.37147 val_loss 1.33970 acc 0.86847 val_acc 0.68196\n"
          ]
        },
        {
          "output_type": "stream",
          "name": "stderr",
          "text": [
            "loss 0.34845 acc 0.87586: 100%|██████████| 782/782 [00:34<00:00, 22.67it/s]\n",
            "val_loss 1.35570 val_acc 0.67850: 100%|██████████| 79/79 [00:04<00:00, 16.32it/s]\n"
          ]
        },
        {
          "output_type": "stream",
          "name": "stdout",
          "text": [
            "Epoch 24/30 loss 0.34845 val_loss 1.35570 acc 0.87586 val_acc 0.67850\n"
          ]
        },
        {
          "output_type": "stream",
          "name": "stderr",
          "text": [
            "loss 0.34083 acc 0.87928: 100%|██████████| 782/782 [00:34<00:00, 22.55it/s]\n",
            "val_loss 1.43972 val_acc 0.66940: 100%|██████████| 79/79 [00:05<00:00, 15.19it/s]\n"
          ]
        },
        {
          "output_type": "stream",
          "name": "stdout",
          "text": [
            "Epoch 25/30 loss 0.34083 val_loss 1.43972 acc 0.87928 val_acc 0.66940\n"
          ]
        },
        {
          "output_type": "stream",
          "name": "stderr",
          "text": [
            "loss 0.33342 acc 0.88207: 100%|██████████| 782/782 [00:34<00:00, 22.82it/s]\n",
            "val_loss 1.50443 val_acc 0.66871: 100%|██████████| 79/79 [00:05<00:00, 13.97it/s]\n"
          ]
        },
        {
          "output_type": "stream",
          "name": "stdout",
          "text": [
            "Epoch 26/30 loss 0.33342 val_loss 1.50443 acc 0.88207 val_acc 0.66871\n"
          ]
        },
        {
          "output_type": "stream",
          "name": "stderr",
          "text": [
            "loss 0.32645 acc 0.88457: 100%|██████████| 782/782 [00:34<00:00, 22.54it/s]\n",
            "val_loss 1.48733 val_acc 0.67405: 100%|██████████| 79/79 [00:05<00:00, 14.00it/s]\n"
          ]
        },
        {
          "output_type": "stream",
          "name": "stdout",
          "text": [
            "Epoch 27/30 loss 0.32645 val_loss 1.48733 acc 0.88457 val_acc 0.67405\n"
          ]
        },
        {
          "output_type": "stream",
          "name": "stderr",
          "text": [
            "loss 0.29773 acc 0.89452: 100%|██████████| 782/782 [00:34<00:00, 22.92it/s]\n",
            "val_loss 1.58896 val_acc 0.67197: 100%|██████████| 79/79 [00:05<00:00, 14.66it/s]\n"
          ]
        },
        {
          "output_type": "stream",
          "name": "stdout",
          "text": [
            "Epoch 28/30 loss 0.29773 val_loss 1.58896 acc 0.89452 val_acc 0.67197\n"
          ]
        },
        {
          "output_type": "stream",
          "name": "stderr",
          "text": [
            "loss 0.29944 acc 0.89460: 100%|██████████| 782/782 [00:34<00:00, 22.73it/s]\n",
            "val_loss 1.67418 val_acc 0.65981: 100%|██████████| 79/79 [00:04<00:00, 16.33it/s]\n"
          ]
        },
        {
          "output_type": "stream",
          "name": "stdout",
          "text": [
            "Epoch 29/30 loss 0.29944 val_loss 1.67418 acc 0.89460 val_acc 0.65981\n"
          ]
        },
        {
          "output_type": "stream",
          "name": "stderr",
          "text": [
            "loss 0.29358 acc 0.89510: 100%|██████████| 782/782 [00:34<00:00, 22.76it/s]\n",
            "val_loss 1.64023 val_acc 0.66802: 100%|██████████| 79/79 [00:04<00:00, 16.17it/s]"
          ]
        },
        {
          "output_type": "stream",
          "name": "stdout",
          "text": [
            "Epoch 30/30 loss 0.29358 val_loss 1.64023 acc 0.89510 val_acc 0.66802\n"
          ]
        },
        {
          "output_type": "stream",
          "name": "stderr",
          "text": [
            "\n"
          ]
        }
      ]
    },
    {
      "cell_type": "markdown",
      "source": [
        "con 10 epoch se llego a 79 % de presicion y con 20 epoch se logro un 84% de precision  "
      ],
      "metadata": {
        "id": "tG-l3UtOeIXZ"
      }
    },
    {
      "cell_type": "markdown",
      "metadata": {
        "heading_collapsed": true,
        "id": "IwhGQ5Gj_CTA"
      },
      "source": [
        "## Resumen"
      ]
    },
    {
      "cell_type": "markdown",
      "metadata": {
        "hidden": true,
        "id": "gvI9CVr7_CTA"
      },
      "source": [
        "En este post hemos introducido la arquitectura de `red neuronal` conocida como `red neuronal convolucional`. Este tipo de redes, inspiradas en el funcionamiento del córtex visual, están especialmente diseñadas para trabajar con imágenes. Gracias a la aplicación de la `capa convolucional`, la red será capaz de reconocer diferentes formas, colores y texturas que, de manera jerárquica, irá componiendo en estructuras cada vez más complejas para poder llevar a cabo su tarea de la mejor forma posible. En futuros posts hablaremos sobre diferente arquitecturas de CNN que han aparecido durante los últimos años y que podemos utilizar para nuestras aplicaciones."
      ]
    }
  ]
}